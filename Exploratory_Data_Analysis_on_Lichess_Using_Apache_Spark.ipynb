{
  "nbformat": 4,
  "nbformat_minor": 0,
  "metadata": {
    "colab": {
      "name": "Exploratory Data Analysis on Lichess Using Apache Spark.ipynb",
      "provenance": [],
      "collapsed_sections": []
    },
    "kernelspec": {
      "name": "python3",
      "display_name": "Python 3"
    },
    "language_info": {
      "name": "python"
    }
  },
  "cells": [
    {
      "cell_type": "code",
      "source": [
        "#HTML code for \n",
        "from IPython.core.display import display, HTML, Javascript\n",
        "html_contents =\"\"\"\n",
        "<!DOCTYPE html>\n",
        "<html lang=\"en\">\n",
        "   <head>\n",
        "   <body>\n",
        "      <p style=\"text-align:center;\">\n",
        "         <svg width='600' height='200'>\n",
        "            <filter id='money'>\n",
        "               <feMorphology in='SourceGraphic' operator='dilate' radius='2' result='expand'/>\n",
        "               <feOffset in='expand' dx='1' dy='1' result='shadow_1'/>\n",
        "               <feOffset in='expand' dx='2' dy='2' result='shadow_2'/>\n",
        "               <feOffset in='expand' dx='3' dy='3' result='shadow_3'/>\n",
        "               <feOffset in='expand' dx='4' dy='4' result='shadow_4'/>\n",
        "               <feOffset in='expand' dx='5' dy='5' result='shadow_5'/>\n",
        "               <feOffset in='expand' dx='6' dy='6' result='shadow_6'/>\n",
        "               <feOffset in='expand' dx='7' dy='7' result='shadow_7'/>\n",
        "               <feMerge result='shadow'>\n",
        "                  <feMergeNode in='expand'/>\n",
        "                  <feMergeNode in='shadow_1'/>\n",
        "                  <feMergeNode in='shadow_2'/>\n",
        "                  <feMergeNode in='shadow_3'/>\n",
        "                  <feMergeNode in='shadow_4'/>\n",
        "                  <feMergeNode in='shadow_5'/>\n",
        "                  <feMergeNode in='shadow_6'/>\n",
        "                  <feMergeNode in='shadow_7'/>\n",
        "               </feMerge>\n",
        "               <feFlood flood-color='#ebe7e0'/>\n",
        "               <feComposite in2='shadow' operator='in' result='shadow'/>\n",
        "               <feMorphology in='shadow' operator='dilate' radius='1' result='border'/>\n",
        "               <feFlood flood-color='#35322a' result='border_color'/>\n",
        "               <feComposite in2='border' operator='in' result='border'/>\n",
        "               <feOffset in='border' dx='1' dy='1' result='secondShadow_1'/>\n",
        "               <feOffset in='border' dx='2' dy='2' result='secondShadow_2'/>\n",
        "               <feOffset in='border' dx='3' dy='3' result='secondShadow_3'/>\n",
        "               <feOffset in='border' dx='4' dy='4' result='secondShadow_4'/>\n",
        "               <feOffset in='border' dx='5' dy='5' result='secondShadow_5'/>\n",
        "               <feOffset in='border' dx='6' dy='6' result='secondShadow_6'/>\n",
        "               <feOffset in='border' dx='7' dy='7' result='secondShadow_7'/>\n",
        "               <feOffset in='border' dx='8' dy='8' result='secondShadow_8'/>\n",
        "               <feOffset in='border' dx='9' dy='9' result='secondShadow_9'/>\n",
        "               <feOffset in='border' dx='10' dy='10' result='secondShadow_10'/>\n",
        "               <feOffset in='border' dx='11' dy='11' result='secondShadow_11'/>\n",
        "               <feMerge result='secondShadow'>\n",
        "                  <feMergeNode in='border'/>\n",
        "                  <feMergeNode in='secondShadow_1'/>\n",
        "                  <feMergeNode in='secondShadow_2'/>\n",
        "                  <feMergeNode in='secondShadow_3'/>\n",
        "                  <feMergeNode in='secondShadow_4'/>\n",
        "                  <feMergeNode in='secondShadow_5'/>\n",
        "                  <feMergeNode in='secondShadow_6'/>\n",
        "                  <feMergeNode in='secondShadow_7'/>\n",
        "                  <feMergeNode in='secondShadow_8'/>\n",
        "                  <feMergeNode in='secondShadow_9'/>\n",
        "                  <feMergeNode in='secondShadow_10'/>\n",
        "                  <feMergeNode in='secondShadow_11'/>\n",
        "               </feMerge>\n",
        "               <feImage x='0' y='0' width='600' height='200' xlink:href='https://s3-us-west-2.amazonaws.com/s.cdpn.io/78779/stripes.svg'/>\n",
        "               \n",
        "               <feComposite in2='secondShadow' operator='in' result='secondShadow'/>\n",
        "               <feMerge>\n",
        "                  <feMergeNode in='secondShadow'/>\n",
        "                  <feMergeNode in='border'/>\n",
        "                  <feMergeNode in='shadow'/>\n",
        "                  <feMergeNode in='SourceGraphic'/>\n",
        "               </feMerge>\n",
        "            </filter>\n",
        "            <text dominant-baseline='middle' text-anchor='middle' x='50%' y='50%' >\n",
        "               Lichess\n",
        "            </text>\n",
        "      <p style=\"text-align:center;\">\n",
        "      <center><img src='https://upload.wikimedia.org/wikipedia/en/6/6d/Lichess_Logo_2019.png'></center>\n",
        "      <center><subtext>Data Analysis Using Spark</subtext></center>\n",
        "      </p>\n",
        "      </svg>\n",
        "      </p>\n",
        "   </body>\n",
        "   <style>\n",
        "      @import url('https://fonts.googleapis.com/css?family=Playfair+Display:900');\n",
        "      text {\n",
        "      fill: #35322a;\n",
        "      filter: url('#money');\n",
        "      font-family: 'Playfair Display', 'Georgia', serif;\n",
        "      font-size: 98px;\n",
        "      font-weight: 100;\n",
        "      }\n",
        "      subtext{\n",
        "      fill: #35322a;\n",
        "      font-family: 'Playfair Display', 'Georgia', serif;\n",
        "      font-size: 30px;\n",
        "      font-weight: 20;\n",
        "      }\n",
        "      html {\n",
        "      align-items: center;\n",
        "      background: #ebe7e0;\n",
        "      display: flex;\n",
        "      justify-content: center;\n",
        "      }\n",
        "     \n",
        "   </style>\n",
        "   </head>\n",
        "</html>\n",
        "\"\"\"\n",
        "HTML(html_contents)\n"
      ],
      "metadata": {
        "colab": {
          "base_uri": "https://localhost:8080/",
          "height": 598
        },
        "id": "v3vMM_5CuGeS",
        "outputId": "625ce5ad-33ce-4065-d51b-602187fb2355"
      },
      "execution_count": null,
      "outputs": [
        {
          "output_type": "execute_result",
          "data": {
            "text/plain": [
              "<IPython.core.display.HTML object>"
            ],
            "text/html": [
              "\n",
              "<!DOCTYPE html>\n",
              "<html lang=\"en\">\n",
              "   <head>\n",
              "   <body>\n",
              "      <p style=\"text-align:center;\">\n",
              "         <svg width='600' height='200'>\n",
              "            <filter id='money'>\n",
              "               <feMorphology in='SourceGraphic' operator='dilate' radius='2' result='expand'/>\n",
              "               <feOffset in='expand' dx='1' dy='1' result='shadow_1'/>\n",
              "               <feOffset in='expand' dx='2' dy='2' result='shadow_2'/>\n",
              "               <feOffset in='expand' dx='3' dy='3' result='shadow_3'/>\n",
              "               <feOffset in='expand' dx='4' dy='4' result='shadow_4'/>\n",
              "               <feOffset in='expand' dx='5' dy='5' result='shadow_5'/>\n",
              "               <feOffset in='expand' dx='6' dy='6' result='shadow_6'/>\n",
              "               <feOffset in='expand' dx='7' dy='7' result='shadow_7'/>\n",
              "               <feMerge result='shadow'>\n",
              "                  <feMergeNode in='expand'/>\n",
              "                  <feMergeNode in='shadow_1'/>\n",
              "                  <feMergeNode in='shadow_2'/>\n",
              "                  <feMergeNode in='shadow_3'/>\n",
              "                  <feMergeNode in='shadow_4'/>\n",
              "                  <feMergeNode in='shadow_5'/>\n",
              "                  <feMergeNode in='shadow_6'/>\n",
              "                  <feMergeNode in='shadow_7'/>\n",
              "               </feMerge>\n",
              "               <feFlood flood-color='#ebe7e0'/>\n",
              "               <feComposite in2='shadow' operator='in' result='shadow'/>\n",
              "               <feMorphology in='shadow' operator='dilate' radius='1' result='border'/>\n",
              "               <feFlood flood-color='#35322a' result='border_color'/>\n",
              "               <feComposite in2='border' operator='in' result='border'/>\n",
              "               <feOffset in='border' dx='1' dy='1' result='secondShadow_1'/>\n",
              "               <feOffset in='border' dx='2' dy='2' result='secondShadow_2'/>\n",
              "               <feOffset in='border' dx='3' dy='3' result='secondShadow_3'/>\n",
              "               <feOffset in='border' dx='4' dy='4' result='secondShadow_4'/>\n",
              "               <feOffset in='border' dx='5' dy='5' result='secondShadow_5'/>\n",
              "               <feOffset in='border' dx='6' dy='6' result='secondShadow_6'/>\n",
              "               <feOffset in='border' dx='7' dy='7' result='secondShadow_7'/>\n",
              "               <feOffset in='border' dx='8' dy='8' result='secondShadow_8'/>\n",
              "               <feOffset in='border' dx='9' dy='9' result='secondShadow_9'/>\n",
              "               <feOffset in='border' dx='10' dy='10' result='secondShadow_10'/>\n",
              "               <feOffset in='border' dx='11' dy='11' result='secondShadow_11'/>\n",
              "               <feMerge result='secondShadow'>\n",
              "                  <feMergeNode in='border'/>\n",
              "                  <feMergeNode in='secondShadow_1'/>\n",
              "                  <feMergeNode in='secondShadow_2'/>\n",
              "                  <feMergeNode in='secondShadow_3'/>\n",
              "                  <feMergeNode in='secondShadow_4'/>\n",
              "                  <feMergeNode in='secondShadow_5'/>\n",
              "                  <feMergeNode in='secondShadow_6'/>\n",
              "                  <feMergeNode in='secondShadow_7'/>\n",
              "                  <feMergeNode in='secondShadow_8'/>\n",
              "                  <feMergeNode in='secondShadow_9'/>\n",
              "                  <feMergeNode in='secondShadow_10'/>\n",
              "                  <feMergeNode in='secondShadow_11'/>\n",
              "               </feMerge>\n",
              "               <feImage x='0' y='0' width='600' height='200' xlink:href='https://s3-us-west-2.amazonaws.com/s.cdpn.io/78779/stripes.svg'/>\n",
              "               \n",
              "               <feComposite in2='secondShadow' operator='in' result='secondShadow'/>\n",
              "               <feMerge>\n",
              "                  <feMergeNode in='secondShadow'/>\n",
              "                  <feMergeNode in='border'/>\n",
              "                  <feMergeNode in='shadow'/>\n",
              "                  <feMergeNode in='SourceGraphic'/>\n",
              "               </feMerge>\n",
              "            </filter>\n",
              "            <text dominant-baseline='middle' text-anchor='middle' x='50%' y='50%' >\n",
              "               Lichess\n",
              "            </text>\n",
              "      <p style=\"text-align:center;\">\n",
              "      <center><img src='https://upload.wikimedia.org/wikipedia/en/6/6d/Lichess_Logo_2019.png'></center>\n",
              "      <center><subtext>Data Analysis Using Spark</subtext></center>\n",
              "      </p>\n",
              "      </svg>\n",
              "      </p>\n",
              "   </body>\n",
              "   <style>\n",
              "      @import url('https://fonts.googleapis.com/css?family=Playfair+Display:900');\n",
              "      text {\n",
              "      fill: #35322a;\n",
              "      filter: url('#money');\n",
              "      font-family: 'Playfair Display', 'Georgia', serif;\n",
              "      font-size: 98px;\n",
              "      font-weight: 100;\n",
              "      }\n",
              "      subtext{\n",
              "      fill: #35322a;\n",
              "      font-family: 'Playfair Display', 'Georgia', serif;\n",
              "      font-size: 30px;\n",
              "      font-weight: 20;\n",
              "      }\n",
              "      html {\n",
              "      align-items: center;\n",
              "      background: #ebe7e0;\n",
              "      display: flex;\n",
              "      justify-content: center;\n",
              "      }\n",
              "     \n",
              "   </style>\n",
              "   </head>\n",
              "</html>\n"
            ]
          },
          "metadata": {},
          "execution_count": 23
        }
      ]
    },
    {
      "cell_type": "markdown",
      "source": [
        "Uploading the file games.csv"
      ],
      "metadata": {
        "id": "X1rFoh-ARgeW"
      }
    },
    {
      "cell_type": "code",
      "execution_count": null,
      "metadata": {
        "colab": {
          "resources": {
            "http://localhost:8080/nbextensions/google.colab/files.js": {
              "data": "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",
              "ok": true,
              "headers": [
                [
                  "content-type",
                  "application/javascript"
                ]
              ],
              "status": 200,
              "status_text": ""
            }
          },
          "base_uri": "https://localhost:8080/",
          "height": 73
        },
        "id": "4O-PulDP3Bjj",
        "outputId": "61daeda6-83b4-42b0-ae29-937a4164baf6"
      },
      "outputs": [
        {
          "output_type": "display_data",
          "data": {
            "text/plain": [
              "<IPython.core.display.HTML object>"
            ],
            "text/html": [
              "\n",
              "     <input type=\"file\" id=\"files-429c8a0c-aa33-46b3-989c-00daba98fc7a\" name=\"files[]\" multiple disabled\n",
              "        style=\"border:none\" />\n",
              "     <output id=\"result-429c8a0c-aa33-46b3-989c-00daba98fc7a\">\n",
              "      Upload widget is only available when the cell has been executed in the\n",
              "      current browser session. Please rerun this cell to enable.\n",
              "      </output>\n",
              "      <script src=\"/nbextensions/google.colab/files.js\"></script> "
            ]
          },
          "metadata": {}
        },
        {
          "output_type": "stream",
          "name": "stdout",
          "text": [
            "Saving games.csv to games.csv\n"
          ]
        }
      ],
      "source": [
        "#Uploading games.csv to google colab\n",
        "from google.colab import files\n",
        "uploaded = files.upload()\n"
      ]
    },
    {
      "cell_type": "markdown",
      "source": [
        "Installing the libraries"
      ],
      "metadata": {
        "id": "0BbaU9NBRnvR"
      }
    },
    {
      "cell_type": "code",
      "source": [
        "#Installing the pyspark library\n",
        "!pip install pyspark\n",
        "!pip install seaborn\n"
      ],
      "metadata": {
        "colab": {
          "base_uri": "https://localhost:8080/"
        },
        "id": "6_4TmNoh37pf",
        "outputId": "f9d2adc7-6c62-4aa1-c12e-614f0cc31ff7"
      },
      "execution_count": null,
      "outputs": [
        {
          "output_type": "stream",
          "name": "stdout",
          "text": [
            "Requirement already satisfied: pyspark in /usr/local/lib/python3.7/dist-packages (3.2.1)\n",
            "Requirement already satisfied: py4j==0.10.9.3 in /usr/local/lib/python3.7/dist-packages (from pyspark) (0.10.9.3)\n",
            "Requirement already satisfied: seaborn in /usr/local/lib/python3.7/dist-packages (0.9.0)\n",
            "Requirement already satisfied: pandas>=0.15.2 in /usr/local/lib/python3.7/dist-packages (from seaborn) (1.3.5)\n",
            "Requirement already satisfied: matplotlib>=1.4.3 in /usr/local/lib/python3.7/dist-packages (from seaborn) (3.2.2)\n",
            "Requirement already satisfied: numpy>=1.9.3 in /usr/local/lib/python3.7/dist-packages (from seaborn) (1.21.6)\n",
            "Requirement already satisfied: scipy>=0.14.0 in /usr/local/lib/python3.7/dist-packages (from seaborn) (1.4.1)\n",
            "Requirement already satisfied: python-dateutil>=2.1 in /usr/local/lib/python3.7/dist-packages (from matplotlib>=1.4.3->seaborn) (2.8.2)\n",
            "Requirement already satisfied: pyparsing!=2.0.4,!=2.1.2,!=2.1.6,>=2.0.1 in /usr/local/lib/python3.7/dist-packages (from matplotlib>=1.4.3->seaborn) (3.0.8)\n",
            "Requirement already satisfied: cycler>=0.10 in /usr/local/lib/python3.7/dist-packages (from matplotlib>=1.4.3->seaborn) (0.11.0)\n",
            "Requirement already satisfied: kiwisolver>=1.0.1 in /usr/local/lib/python3.7/dist-packages (from matplotlib>=1.4.3->seaborn) (1.4.2)\n",
            "Requirement already satisfied: typing-extensions in /usr/local/lib/python3.7/dist-packages (from kiwisolver>=1.0.1->matplotlib>=1.4.3->seaborn) (4.1.1)\n",
            "Requirement already satisfied: pytz>=2017.3 in /usr/local/lib/python3.7/dist-packages (from pandas>=0.15.2->seaborn) (2022.1)\n",
            "Requirement already satisfied: six>=1.5 in /usr/local/lib/python3.7/dist-packages (from python-dateutil>=2.1->matplotlib>=1.4.3->seaborn) (1.15.0)\n"
          ]
        }
      ]
    },
    {
      "cell_type": "markdown",
      "source": [
        "Importing the libraries"
      ],
      "metadata": {
        "id": "cj5q6Ot8RrrY"
      }
    },
    {
      "cell_type": "code",
      "source": [
        "from pyspark import SparkConf, SparkContext\n",
        "from pyspark import SQLContext \n",
        "from pyspark.sql import SparkSession\n",
        "import pyspark.sql.types as t\n",
        "import pyspark.sql.functions as f\n",
        "import seaborn as sns\n",
        "import numpy as np\n",
        "import matplotlib.dates as mdates\n",
        "import matplotlib.pyplot as plt"
      ],
      "metadata": {
        "id": "xSVFXIiD5MNl"
      },
      "execution_count": null,
      "outputs": []
    },
    {
      "cell_type": "markdown",
      "source": [
        "Building a spark session"
      ],
      "metadata": {
        "id": "blgswE65RywE"
      }
    },
    {
      "cell_type": "code",
      "source": [
        "spark = (SparkSession.builder.config(\"spark.driver.memory\",\"4g\").config(\"spark.driver.maxResultSize\", \"4g\").getOrCreate())\n"
      ],
      "metadata": {
        "id": "9MY3XYWv57V1"
      },
      "execution_count": null,
      "outputs": []
    },
    {
      "cell_type": "markdown",
      "source": [
        "Reading the games.csv file to a dataframe df"
      ],
      "metadata": {
        "id": "pEA9YrNxR2as"
      }
    },
    {
      "cell_type": "code",
      "source": [
        "df = spark.read.csv(path='/content/games.csv', inferSchema=True, header=True)\n"
      ],
      "metadata": {
        "id": "1okooImW6xB_"
      },
      "execution_count": null,
      "outputs": []
    },
    {
      "cell_type": "code",
      "source": [
        "#HTML Code for Heading\n",
        "\n",
        "from IPython.core.display import display, HTML, Javascript\n",
        "html_contents =\"\"\"\n",
        "<!DOCTYPE html>\n",
        "<html lang=\"en\">\n",
        "   <head>\n",
        "   <body>\n",
        "      <p style=\"text-align:center;\">\n",
        "      <subtext>Exploratory Data Analysis</subtext>\n",
        "      </p>\n",
        "   </body>\n",
        "   <style>\n",
        "      @import url('https://fonts.googleapis.com/css?family=Playfair+Display:900');\n",
        "      subtext{\n",
        "      fill: #35322a;\n",
        "      font-family: 'Playfair Display', 'Georgia', serif;\n",
        "      font-size: 30px;\n",
        "      font-weight: 20;\n",
        "      }\n",
        "      html {\n",
        "      align-items: center;\n",
        "      background: #ebe7e0;\n",
        "      display: flex;\n",
        "      justify-content: center;\n",
        "      }\n",
        "     \n",
        "   </style>\n",
        "   </head>\n",
        "</html>\n",
        "\"\"\"\n",
        "HTML(html_contents)"
      ],
      "metadata": {
        "colab": {
          "base_uri": "https://localhost:8080/",
          "height": 66
        },
        "id": "F0EGatzLtOHi",
        "outputId": "f810d3d1-93cc-4d1d-c3a1-86a7f80f05e8"
      },
      "execution_count": null,
      "outputs": [
        {
          "output_type": "execute_result",
          "data": {
            "text/plain": [
              "<IPython.core.display.HTML object>"
            ],
            "text/html": [
              "\n",
              "<!DOCTYPE html>\n",
              "<html lang=\"en\">\n",
              "   <head>\n",
              "   <body>\n",
              "      <p style=\"text-align:center;\">\n",
              "      <subtext>Exploratory Data Analysis</subtext>\n",
              "      </p>\n",
              "   </body>\n",
              "   <style>\n",
              "      @import url('https://fonts.googleapis.com/css?family=Playfair+Display:900');\n",
              "      subtext{\n",
              "      fill: #35322a;\n",
              "      font-family: 'Playfair Display', 'Georgia', serif;\n",
              "      font-size: 30px;\n",
              "      font-weight: 20;\n",
              "      }\n",
              "      html {\n",
              "      align-items: center;\n",
              "      background: #ebe7e0;\n",
              "      display: flex;\n",
              "      justify-content: center;\n",
              "      }\n",
              "     \n",
              "   </style>\n",
              "   </head>\n",
              "</html>\n"
            ]
          },
          "metadata": {},
          "execution_count": 10
        }
      ]
    },
    {
      "cell_type": "markdown",
      "source": [
        "Creating a Spark Table called Schema for Spark Analysis"
      ],
      "metadata": {
        "id": "tPUTbClM8via"
      }
    },
    {
      "cell_type": "code",
      "source": [
        "df.registerTempTable(\"Schema\")"
      ],
      "metadata": {
        "colab": {
          "base_uri": "https://localhost:8080/"
        },
        "id": "XhLBVc2I5Wvb",
        "outputId": "4fb64190-1fb4-4a73-8c6d-dabed3bc69fe"
      },
      "execution_count": null,
      "outputs": [
        {
          "output_type": "stream",
          "name": "stderr",
          "text": [
            "/usr/local/lib/python3.7/dist-packages/pyspark/sql/dataframe.py:140: FutureWarning: Deprecated in 2.0, use createOrReplaceTempView instead.\n",
            "  FutureWarning\n"
          ]
        }
      ]
    },
    {
      "cell_type": "markdown",
      "source": [
        "Query for Listing the Tables entries"
      ],
      "metadata": {
        "id": "tRs-aRaRBGmN"
      }
    },
    {
      "cell_type": "code",
      "source": [
        "q1 = spark.sql('''select * from Schema limit 100''')\n",
        "q1.show()"
      ],
      "metadata": {
        "colab": {
          "base_uri": "https://localhost:8080/"
        },
        "id": "-cmtXIPG9IdO",
        "outputId": "942a7b02-3249-4857-c7a9-6e5c85fe53fe"
      },
      "execution_count": null,
      "outputs": [
        {
          "output_type": "stream",
          "name": "stdout",
          "text": [
            "+--------+-----+----------+------------+-----+--------------+------+--------------+------------------+------------+------------------+------------+--------------------+-----------+--------------------+-----------+\n",
            "|      id|rated|created_at|last_move_at|turns|victory_status|winner|increment_code|          white_id|white_rating|          black_id|black_rating|               moves|opening_eco|        opening_name|opening_ply|\n",
            "+--------+-----+----------+------------+-----+--------------+------+--------------+------------------+------------+------------------+------------+--------------------+-----------+--------------------+-----------+\n",
            "|TZJHLljE|false|    1.5E12|      1.5E12|   13|     outoftime| white|          15+2|          bourgris|        1500|              a-00|        1191|d4 d5 c4 c6 cxd5 ...|        D10|Slav Defense: Exc...|          5|\n",
            "|l1NXvwaE| true|    1.5E12|      1.5E12|   16|        resign| black|          5+10|              a-00|        1322|         skinnerua|        1261|d4 Nc6 e4 e5 f4 f...|        B00|Nimzowitsch Defen...|          4|\n",
            "|mIICvQHh| true|    1.5E12|      1.5E12|   61|          mate| white|          5+10|            ischia|        1496|              a-00|        1500|e4 e5 d3 d6 Be3 c...|        C20|King's Pawn Game:...|          3|\n",
            "|kWKvrqYL| true|    1.5E12|      1.5E12|   61|          mate| white|          20+0|     daniamurashov|        1439|      adivanov2009|        1454|d4 d5 Nf3 Bf5 Nc3...|        D02|Queen's Pawn Game...|          3|\n",
            "|9tXo1AUZ| true|    1.5E12|      1.5E12|   95|          mate| white|          30+3|         nik221107|        1523|      adivanov2009|        1469|e4 e5 Nf3 d6 d4 N...|        C41|    Philidor Defense|          5|\n",
            "|MsoDV9wj|false|    1.5E12|      1.5E12|    5|          draw|  draw|          10+0|         trelynn17|        1250|     franklin14532|        1002|    e4 c5 Nf3 Qa5 a3|        B27|Sicilian Defense:...|          4|\n",
            "|qwU9rasv| true|    1.5E12|      1.5E12|   33|        resign| white|          10+0|           capa_jr|        1520|daniel_likes_chess|        1423|d4 d5 e4 dxe4 Nc3...|        D00|Blackmar-Diemer G...|         10|\n",
            "|RVN0N3VK|false|    1.5E12|      1.5E12|    9|        resign| black|         15+30|daniel_likes_chess|        1413|          soultego|        2108|e4 Nc6 d4 e5 d5 N...|        B00|Nimzowitsch Defen...|          5|\n",
            "|dwF3DJHO| true|    1.5E12|      1.5E12|   66|        resign| black|          15+0|         ehabfanri|        1439|daniel_likes_chess|        1392|e4 e5 Bc4 Nc6 Nf3...|        C50|Italian Game: Sch...|          6|\n",
            "|afoMwnLg| true|    1.5E12|      1.5E12|  119|          mate| white|          10+0|daniel_likes_chess|        1381|           mirco25|        1209|e4 d5 exd5 Qxd5 N...|        B01|Scandinavian Defe...|          4|\n",
            "|HgKLWPsz|false|    1.5E12|      1.5E12|   39|          mate| white|         20+60|daniel_likes_chess|        1381|          anaissac|        1272|e3 e6 d4 d6 Bd3 c...|        A00|Van't Kruijs Opening|          1|\n",
            "|Vf5fKWzI|false|    1.5E12|      1.5E12|   38|        resign| black|         20+60|daniel_likes_chess|        1381|         subham777|        1867|e4 e6 d4 d5 e5 c5...|        C02|French Defense: A...|          9|\n",
            "|HRti5mKv|false|    1.5E12|      1.5E12|   60|        resign| black|          5+40|daniel_likes_chess|        1381|     roman12342005|        1936|e4 e6 Nf3 d5 exd5...|        C00|French Defense: K...|          3|\n",
            "|2fEjSei6|false|    1.5E12|      1.5E12|   31|        resign| black|           8+0|daniel_likes_chess|        1381|            alkhan|        1607|e4 e6 Qh5 g6 Qe5 ...|        C00|   French Defense #2|          2|\n",
            "|u7i6dOaJ|false|    1.5E12|      1.5E12|   31|          mate| white|         15+15| shivangithegenius|        1094|     sureka_akshat|        1141|e4 e5 Nf3 Nc6 Bc4...|        C50|Four Knights Game...|          8|\n",
            "|guanvMR5|false|    1.5E12|      1.5E12|   43|        resign| black|         15+15|     sureka_akshat|        1141| shivangithegenius|        1094|e4 e5 Nf3 Nc6 Bc4...|        C57|Italian Game: Two...|          7|\n",
            "|PmpkWkmm|false|    1.5E12|      1.5E12|   52|        resign| black|         15+15| shivangithegenius|        1094|     sureka_akshat|        1141|e4 e5 Nf3 Nc6 Bc4...|        C50|Four Knights Game...|          8|\n",
            "|EwaK0IsE|false|    1.5E12|      1.5E12|   66|          mate| black|         15+16|     sureka_akshat|        1141| shivangithegenius|        1094|e4 e5 Nf3 Nc6 Bc4...|        C50|Four Knights Game...|          8|\n",
            "|yrSDozT3|false|    1.5E12|      1.5E12|  101|        resign| black|         15+15| shivangithegenius|        1094|         slam_ment|        1300|e4 e5 Nf3 d6 Bc4 ...|        C41| Philidor Defense #3|          5|\n",
            "|x31mXlvc|false|    1.5E12|      1.5E12|   25|        resign| white|          11+0|             g-ios|        1500| shivangithegenius|        1094|d4 d5 h3 Nc6 Nf3 ...|        D00|   Queen's Pawn Game|          2|\n",
            "+--------+-----+----------+------------+-----+--------------+------+--------------+------------------+------------+------------------+------------+--------------------+-----------+--------------------+-----------+\n",
            "only showing top 20 rows\n",
            "\n"
          ]
        }
      ]
    },
    {
      "cell_type": "code",
      "source": [
        "#HTML Code for Heading\n",
        "\n",
        "from IPython.core.display import display, HTML, Javascript\n",
        "html_contents =\"\"\"\n",
        "<!DOCTYPE html>\n",
        "<html lang=\"en\">\n",
        "   <head>\n",
        "   <body>\n",
        "      <p style=\"text-align:center;\">\n",
        "      <subtext>Top 10 Rated Players Playing White</subtext>\n",
        "      </p>\n",
        "   </body>\n",
        "   <style>\n",
        "      @import url('https://fonts.googleapis.com/css?family=Playfair+Display:900');\n",
        "      subtext{\n",
        "      fill: #35322a;\n",
        "      font-family: 'Playfair Display', 'Georgia', serif;\n",
        "      font-size: 30px;\n",
        "      font-weight: 20;\n",
        "      }\n",
        "      html {\n",
        "      align-items: center;\n",
        "      background: #ebe7e0;\n",
        "      display: flex;\n",
        "      justify-content: center;\n",
        "      }\n",
        "     \n",
        "   </style>\n",
        "   </head>\n",
        "</html>\n",
        "\"\"\"\n",
        "HTML(html_contents)"
      ],
      "metadata": {
        "colab": {
          "base_uri": "https://localhost:8080/",
          "height": 66
        },
        "id": "O68l17B9x86g",
        "outputId": "72e0fd4d-33ec-48ad-a84b-b73161afffe7"
      },
      "execution_count": null,
      "outputs": [
        {
          "output_type": "execute_result",
          "data": {
            "text/plain": [
              "<IPython.core.display.HTML object>"
            ],
            "text/html": [
              "\n",
              "<!DOCTYPE html>\n",
              "<html lang=\"en\">\n",
              "   <head>\n",
              "   <body>\n",
              "      <p style=\"text-align:center;\">\n",
              "      <subtext>Top 10 Rated Players Playing White</subtext>\n",
              "      </p>\n",
              "   </body>\n",
              "   <style>\n",
              "      @import url('https://fonts.googleapis.com/css?family=Playfair+Display:900');\n",
              "      subtext{\n",
              "      fill: #35322a;\n",
              "      font-family: 'Playfair Display', 'Georgia', serif;\n",
              "      font-size: 30px;\n",
              "      font-weight: 20;\n",
              "      }\n",
              "      html {\n",
              "      align-items: center;\n",
              "      background: #ebe7e0;\n",
              "      display: flex;\n",
              "      justify-content: center;\n",
              "      }\n",
              "     \n",
              "   </style>\n",
              "   </head>\n",
              "</html>\n"
            ]
          },
          "metadata": {},
          "execution_count": 77
        }
      ]
    },
    {
      "cell_type": "code",
      "source": [
        "#Query for displaying top 10 rated players playing white\n",
        "q2 = spark.sql('''SELECT white_id,white_rating FROM Schema ORDER BY white_rating DESC ''')\n",
        "q2.show(10)"
      ],
      "metadata": {
        "colab": {
          "base_uri": "https://localhost:8080/"
        },
        "id": "k56UcjSRrKeD",
        "outputId": "273a5bcc-9d80-42b4-d105-3fb1b945e6c2"
      },
      "execution_count": null,
      "outputs": [
        {
          "output_type": "stream",
          "name": "stdout",
          "text": [
            "+-----------+------------+\n",
            "|   white_id|white_rating|\n",
            "+-----------+------------+\n",
            "| justicebot|        2700|\n",
            "|blitzbullet|        2622|\n",
            "|  lance5500|        2621|\n",
            "|  lance5500|        2621|\n",
            "|  lance5500|        2621|\n",
            "|  lance5500|        2621|\n",
            "|  lance5500|        2621|\n",
            "|  lance5500|        2621|\n",
            "|  lance5500|        2621|\n",
            "|  lance5500|        2621|\n",
            "+-----------+------------+\n",
            "only showing top 10 rows\n",
            "\n"
          ]
        }
      ]
    },
    {
      "cell_type": "code",
      "source": [
        "#HTML Code for Heading\n",
        "from IPython.core.display import display, HTML, Javascript\n",
        "html_contents =\"\"\"\n",
        "<!DOCTYPE html>\n",
        "<html lang=\"en\">\n",
        "   <head>\n",
        "   <body>\n",
        "      <p style=\"text-align:center;\">\n",
        "      <subtext>Top 10 Rated Players Playing Black</subtext>\n",
        "      </p>\n",
        "   </body>\n",
        "   <style>\n",
        "      @import url('https://fonts.googleapis.com/css?family=Playfair+Display:900');\n",
        "      subtext{\n",
        "      fill: #35322a;\n",
        "      font-family: 'Playfair Display', 'Georgia', serif;\n",
        "      font-size: 30px;\n",
        "      font-weight: 20;\n",
        "      }\n",
        "      html {\n",
        "      align-items: center;\n",
        "      background: #ebe7e0;\n",
        "      display: flex;\n",
        "      justify-content: center;\n",
        "      }\n",
        "     \n",
        "   </style>\n",
        "   </head>\n",
        "</html>\n",
        "\"\"\"\n",
        "HTML(html_contents)"
      ],
      "metadata": {
        "colab": {
          "base_uri": "https://localhost:8080/",
          "height": 66
        },
        "id": "5sgWszwMzzoO",
        "outputId": "7ee92614-c912-4554-c2bd-d85f9fd370d9"
      },
      "execution_count": null,
      "outputs": [
        {
          "output_type": "execute_result",
          "data": {
            "text/plain": [
              "<IPython.core.display.HTML object>"
            ],
            "text/html": [
              "\n",
              "<!DOCTYPE html>\n",
              "<html lang=\"en\">\n",
              "   <head>\n",
              "   <body>\n",
              "      <p style=\"text-align:center;\">\n",
              "      <subtext>Top 10 Rated Players Playing Black</subtext>\n",
              "      </p>\n",
              "   </body>\n",
              "   <style>\n",
              "      @import url('https://fonts.googleapis.com/css?family=Playfair+Display:900');\n",
              "      subtext{\n",
              "      fill: #35322a;\n",
              "      font-family: 'Playfair Display', 'Georgia', serif;\n",
              "      font-size: 30px;\n",
              "      font-weight: 20;\n",
              "      }\n",
              "      html {\n",
              "      align-items: center;\n",
              "      background: #ebe7e0;\n",
              "      display: flex;\n",
              "      justify-content: center;\n",
              "      }\n",
              "     \n",
              "   </style>\n",
              "   </head>\n",
              "</html>\n"
            ]
          },
          "metadata": {},
          "execution_count": 78
        }
      ]
    },
    {
      "cell_type": "code",
      "source": [
        "#Query for displaying top 10 rated players playing black\n",
        "q3 = spark.sql('''SELECT black_id, black_rating FROM Schema WHERE black_rating>2000 ORDER BY black_rating DESC''')\n",
        "q3.show(10)"
      ],
      "metadata": {
        "colab": {
          "base_uri": "https://localhost:8080/"
        },
        "id": "aOru7CN_0Jv6",
        "outputId": "e65de0a4-37ae-4263-a1a5-ea9fc1b677fa"
      },
      "execution_count": null,
      "outputs": [
        {
          "output_type": "stream",
          "name": "stdout",
          "text": [
            "+----------+------------+\n",
            "|  black_id|black_rating|\n",
            "+----------+------------+\n",
            "|justicebot|        2723|\n",
            "| lance5500|        2621|\n",
            "| lance5500|        2621|\n",
            "| lance5500|        2621|\n",
            "| lance5500|        2621|\n",
            "| lance5500|        2621|\n",
            "| lance5500|        2621|\n",
            "| lance5500|        2621|\n",
            "| lance5500|        2621|\n",
            "| lance5500|        2621|\n",
            "+----------+------------+\n",
            "only showing top 10 rows\n",
            "\n"
          ]
        }
      ]
    },
    {
      "cell_type": "code",
      "source": [
        "#HTML Code for Heading\n",
        "from IPython.core.display import display, HTML, Javascript\n",
        "html_contents =\"\"\"\n",
        "<!DOCTYPE html>\n",
        "<html lang=\"en\">\n",
        "   <head>\n",
        "   <body>\n",
        "      <p style=\"text-align:center;\">\n",
        "      <subtext>Aggregating to draw Descriptive Statistics</subtext>\n",
        "      </p>\n",
        "   </body>\n",
        "   <style>\n",
        "      @import url('https://fonts.googleapis.com/css?family=Playfair+Display:900');\n",
        "      subtext{\n",
        "      fill: #35322a;\n",
        "      font-family: 'Playfair Display', 'Georgia', serif;\n",
        "      font-size: 30px;\n",
        "      font-weight: 20;\n",
        "      }\n",
        "      html {\n",
        "      align-items: center;\n",
        "      background: #ebe7e0;\n",
        "      display: flex;\n",
        "      justify-content: center;\n",
        "      }\n",
        "     \n",
        "   </style>\n",
        "   </head>\n",
        "</html>\n",
        "\"\"\"\n",
        "HTML(html_contents)"
      ],
      "metadata": {
        "colab": {
          "base_uri": "https://localhost:8080/",
          "height": 66
        },
        "id": "rZ-hMiHjHYCE",
        "outputId": "98e1cd93-b473-47dd-a8b7-73de394e93b9"
      },
      "execution_count": null,
      "outputs": [
        {
          "output_type": "execute_result",
          "data": {
            "text/plain": [
              "<IPython.core.display.HTML object>"
            ],
            "text/html": [
              "\n",
              "<!DOCTYPE html>\n",
              "<html lang=\"en\">\n",
              "   <head>\n",
              "   <body>\n",
              "      <p style=\"text-align:center;\">\n",
              "      <subtext>Aggregating to draw Descriptive Statistics</subtext>\n",
              "      </p>\n",
              "   </body>\n",
              "   <style>\n",
              "      @import url('https://fonts.googleapis.com/css?family=Playfair+Display:900');\n",
              "      subtext{\n",
              "      fill: #35322a;\n",
              "      font-family: 'Playfair Display', 'Georgia', serif;\n",
              "      font-size: 30px;\n",
              "      font-weight: 20;\n",
              "      }\n",
              "      html {\n",
              "      align-items: center;\n",
              "      background: #ebe7e0;\n",
              "      display: flex;\n",
              "      justify-content: center;\n",
              "      }\n",
              "     \n",
              "   </style>\n",
              "   </head>\n",
              "</html>\n"
            ]
          },
          "metadata": {},
          "execution_count": 87
        }
      ]
    },
    {
      "cell_type": "markdown",
      "source": [
        "Deriving average, min and max of all players"
      ],
      "metadata": {
        "id": "KiZy-NFdSn8h"
      }
    },
    {
      "cell_type": "code",
      "source": [
        "q4 = spark.sql('''SELECT avg(white_rating) FROM Schema ''')\n",
        "q4.show()\n",
        "\n",
        "q5 = spark.sql('''SELECT avg(black_rating) FROM Schema ''')\n",
        "q5.show()\n",
        "\n",
        "q7 = spark.sql('''SELECT white_id, avg(white_rating), MAX(white_rating),MIN(white_rating) FROM Schema GROUP BY white_id''')\n",
        "q7.show()"
      ],
      "metadata": {
        "colab": {
          "base_uri": "https://localhost:8080/"
        },
        "id": "Lw7IjLW6He-t",
        "outputId": "abb3d897-6d66-42dd-9b0a-de2c1ef34dc8"
      },
      "execution_count": null,
      "outputs": [
        {
          "output_type": "stream",
          "name": "stdout",
          "text": [
            "+------------------+\n",
            "| avg(white_rating)|\n",
            "+------------------+\n",
            "|1596.6318675840064|\n",
            "+------------------+\n",
            "\n",
            "+------------------+\n",
            "| avg(black_rating)|\n",
            "+------------------+\n",
            "|1588.8319872370128|\n",
            "+------------------+\n",
            "\n",
            "+----------------+------------------+-----------------+-----------------+\n",
            "|        white_id| avg(white_rating)|max(white_rating)|min(white_rating)|\n",
            "+----------------+------------------+-----------------+-----------------+\n",
            "|        lafreu64|            1851.0|             1851|             1851|\n",
            "|        dleipold|            1713.0|             1713|             1713|\n",
            "|       styve_lam|            1279.0|             1279|             1279|\n",
            "|       sqs198627|            1814.0|             1814|             1814|\n",
            "|        oceannnn|            1375.0|             1375|             1375|\n",
            "|       deez2nuts|            1329.0|             1329|             1329|\n",
            "|     pizzalberto|            1587.0|             1587|             1587|\n",
            "|    joel_collado|            1709.0|             1709|             1709|\n",
            "|        lthiagos|            2169.0|             2169|             2169|\n",
            "|         v1chess|1526.4545454545455|             1541|             1495|\n",
            "|shieldandsword88|            1619.0|             1619|             1619|\n",
            "|            wei2|            1615.0|             1615|             1615|\n",
            "|amaozinhadotemer|            1194.5|             1234|             1155|\n",
            "|     adamsandler|            2103.0|             2103|             2103|\n",
            "|             isp|            1622.0|             1622|             1622|\n",
            "|       zaid-taha|            1796.0|             1796|             1796|\n",
            "|    boro-i-ramiz|2019.3333333333333|             2106|             1958|\n",
            "|   zingtingaling|            1357.0|             1357|             1357|\n",
            "|       carloshpb|            1346.0|             1346|             1346|\n",
            "|        lora_cat|            1653.0|             1653|             1653|\n",
            "+----------------+------------------+-----------------+-----------------+\n",
            "only showing top 20 rows\n",
            "\n"
          ]
        }
      ]
    },
    {
      "cell_type": "markdown",
      "source": [
        "Deriving average, min and max turns of all players"
      ],
      "metadata": {
        "id": "ETiwvQ6xSy6b"
      }
    },
    {
      "cell_type": "code",
      "source": [
        "\n",
        "q8 = spark.sql('''SELECT white_id, avg(turns), MAX(turns),MIN(turns) FROM Schema GROUP BY white_id ''')\n",
        "q8.show()\n",
        "\n",
        "q9 = spark.sql('''SELECT black_id, avg(turns), MAX(turns),MIN(turns) FROM Schema GROUP BY black_id''')\n",
        "q9.show()"
      ],
      "metadata": {
        "colab": {
          "base_uri": "https://localhost:8080/"
        },
        "id": "u1l1B3hYlvsU",
        "outputId": "55f9035f-49f8-432e-84b0-cdfef0ccf748"
      },
      "execution_count": null,
      "outputs": [
        {
          "output_type": "stream",
          "name": "stdout",
          "text": [
            "+----------------+-----------------+----------+----------+\n",
            "|        white_id|       avg(turns)|max(turns)|min(turns)|\n",
            "+----------------+-----------------+----------+----------+\n",
            "|        lafreu64|             35.0|        35|        35|\n",
            "|        dleipold|            118.0|       118|       118|\n",
            "|       styve_lam|             17.0|        17|        17|\n",
            "|       sqs198627|            101.0|       101|       101|\n",
            "|        oceannnn|              3.0|         3|         3|\n",
            "|       deez2nuts|            118.0|       118|       118|\n",
            "|     pizzalberto|             64.0|        64|        64|\n",
            "|    joel_collado|             35.0|        35|        35|\n",
            "|        lthiagos|             67.0|        67|        67|\n",
            "|         v1chess|66.27272727272727|       109|        13|\n",
            "|shieldandsword88|             27.0|        27|        27|\n",
            "|            wei2|             41.0|        41|        41|\n",
            "|amaozinhadotemer|             33.0|        44|        22|\n",
            "|     adamsandler|             42.0|        42|        42|\n",
            "|             isp|             20.0|        20|        20|\n",
            "|       zaid-taha|            149.0|       149|       149|\n",
            "|    boro-i-ramiz|71.66666666666667|        84|        51|\n",
            "|   zingtingaling|             41.0|        41|        41|\n",
            "|       carloshpb|             80.0|        80|        80|\n",
            "|        lora_cat|            110.0|       110|       110|\n",
            "+----------------+-----------------+----------+----------+\n",
            "only showing top 20 rows\n",
            "\n",
            "+----------------+-----------------+----------+----------+\n",
            "|        black_id|       avg(turns)|max(turns)|min(turns)|\n",
            "+----------------+-----------------+----------+----------+\n",
            "|        karo1972|             65.0|        65|        65|\n",
            "|       sqs198627|             49.0|        49|        49|\n",
            "|    godlikemoves|             65.5|        67|        64|\n",
            "|           kshaz|             64.0|        64|        64|\n",
            "|     ertugrull01|             54.0|        54|        54|\n",
            "|      pol_allars|             71.0|        71|        71|\n",
            "|         v1chess|65.22222222222223|        79|        27|\n",
            "|shieldandsword88|             44.0|        44|        44|\n",
            "|         digidik|             45.0|        45|        45|\n",
            "|           sharx|             35.0|        35|        35|\n",
            "|amaozinhadotemer|             56.0|        56|        56|\n",
            "|          kaveca|             37.0|        37|        37|\n",
            "|         scenick|             47.0|        47|        47|\n",
            "|    mateworkkkkk|             63.0|        63|        63|\n",
            "|          rich8a|             26.0|        26|        26|\n",
            "|   zingtingaling|             36.0|        36|        36|\n",
            "|         marcban|             30.0|        30|        30|\n",
            "|       reza32500|             56.0|        56|        56|\n",
            "|       sawadatsu|             69.0|        69|        69|\n",
            "|          jara_h|            34.75|        52|        16|\n",
            "+----------------+-----------------+----------+----------+\n",
            "only showing top 20 rows\n",
            "\n"
          ]
        }
      ]
    },
    {
      "cell_type": "code",
      "source": [
        "#HTML Code for Heading\n",
        "from IPython.core.display import display, HTML, Javascript\n",
        "html_contents =\"\"\"\n",
        "<!DOCTYPE html>\n",
        "<html lang=\"en\">\n",
        "   <head>\n",
        "   <body>\n",
        "      <p style=\"text-align:center;\">\n",
        "      <subtext>Analysis of Chess Openings</subtext>\n",
        "      </p>\n",
        "   </body>\n",
        "   <style>\n",
        "      @import url('https://fonts.googleapis.com/css?family=Playfair+Display:900');\n",
        "      subtext{\n",
        "      fill: #35322a;\n",
        "      font-family: 'Playfair Display', 'Georgia', serif;\n",
        "      font-size: 30px;\n",
        "      font-weight: 20;\n",
        "      }\n",
        "      html {\n",
        "      align-items: center;\n",
        "      background: #ebe7e0;\n",
        "      display: flex;\n",
        "      justify-content: center;\n",
        "      }\n",
        "     \n",
        "   </style>\n",
        "   </head>\n",
        "</html>\n",
        "\"\"\"\n",
        "HTML(html_contents)"
      ],
      "metadata": {
        "colab": {
          "base_uri": "https://localhost:8080/",
          "height": 66
        },
        "id": "vPF81bqeOWBz",
        "outputId": "e468dd77-60b7-471f-9a50-0be983909501"
      },
      "execution_count": null,
      "outputs": [
        {
          "output_type": "execute_result",
          "data": {
            "text/plain": [
              "<IPython.core.display.HTML object>"
            ],
            "text/html": [
              "\n",
              "<!DOCTYPE html>\n",
              "<html lang=\"en\">\n",
              "   <head>\n",
              "   <body>\n",
              "      <p style=\"text-align:center;\">\n",
              "      <subtext>Analysis of Chess Openings</subtext>\n",
              "      </p>\n",
              "   </body>\n",
              "   <style>\n",
              "      @import url('https://fonts.googleapis.com/css?family=Playfair+Display:900');\n",
              "      subtext{\n",
              "      fill: #35322a;\n",
              "      font-family: 'Playfair Display', 'Georgia', serif;\n",
              "      font-size: 30px;\n",
              "      font-weight: 20;\n",
              "      }\n",
              "      html {\n",
              "      align-items: center;\n",
              "      background: #ebe7e0;\n",
              "      display: flex;\n",
              "      justify-content: center;\n",
              "      }\n",
              "     \n",
              "   </style>\n",
              "   </head>\n",
              "</html>\n"
            ]
          },
          "metadata": {},
          "execution_count": 125
        }
      ]
    },
    {
      "cell_type": "markdown",
      "source": [
        "Get the count of a specific opening "
      ],
      "metadata": {
        "id": "yJXuuwtPS9El"
      }
    },
    {
      "cell_type": "code",
      "source": [
        "q10 = spark.sql('''SELECT opening_name FROM Schema WHERE opening_name= 'Indian Game' ''');\n",
        "q10.count()"
      ],
      "metadata": {
        "id": "0nMJTaD4PBzO"
      },
      "execution_count": null,
      "outputs": []
    },
    {
      "cell_type": "markdown",
      "source": [
        "Get 10 most popular chess openings on Lichess"
      ],
      "metadata": {
        "id": "deCXfbylTHgv"
      }
    },
    {
      "cell_type": "code",
      "source": [
        " q11=spark.sql('''SELECT opening_name,count(opening_name) FROM Schema GROUP BY opening_name ORDER BY count(opening_name) DESC''')\n",
        "q11.show(10)"
      ],
      "metadata": {
        "colab": {
          "base_uri": "https://localhost:8080/"
        },
        "id": "8DfZJG5XQs2c",
        "outputId": "b297ab57-5374-4a2d-9811-920f525a790a"
      },
      "execution_count": null,
      "outputs": [
        {
          "output_type": "stream",
          "name": "stdout",
          "text": [
            "+--------------------+-------------------+\n",
            "|        opening_name|count(opening_name)|\n",
            "+--------------------+-------------------+\n",
            "|Van't Kruijs Opening|                368|\n",
            "|    Sicilian Defense|                358|\n",
            "|Sicilian Defense:...|                296|\n",
            "|French Defense: K...|                271|\n",
            "|         Scotch Game|                271|\n",
            "|Scandinavian Defe...|                259|\n",
            "|Queen's Pawn Game...|                232|\n",
            "|Queen's Pawn Game...|                229|\n",
            "|Scandinavian Defense|                223|\n",
            "|     Horwitz Defense|                209|\n",
            "+--------------------+-------------------+\n",
            "only showing top 10 rows\n",
            "\n"
          ]
        }
      ]
    },
    {
      "cell_type": "markdown",
      "source": [
        "Get Average number of turns per opening"
      ],
      "metadata": {
        "id": "s9QzUpDCTOni"
      }
    },
    {
      "cell_type": "code",
      "source": [
        "q12 = spark.sql('''SELECT opening_name, avg(turns) FROM Schema GROUP BY opening_name ORDER BY avg(turns) DESC''')\n",
        "q12.show()"
      ],
      "metadata": {
        "colab": {
          "base_uri": "https://localhost:8080/"
        },
        "id": "OWBPcvTGdK3G",
        "outputId": "2b4674a3-1744-41fa-a849-ba1db0a2f084"
      },
      "execution_count": null,
      "outputs": [
        {
          "output_type": "stream",
          "name": "stdout",
          "text": [
            "+--------------------+----------+\n",
            "|        opening_name|avg(turns)|\n",
            "+--------------------+----------+\n",
            "|Queen's Gambit De...|     349.0|\n",
            "|Queen's Gambit De...|     208.0|\n",
            "|Neo-Gruenfeld Def...|     204.0|\n",
            "|Slav Defense: Two...|     171.0|\n",
            "|Queen's Gambit Ac...|     170.0|\n",
            "|Ruy Lopez: Classi...|     168.0|\n",
            "|French Defense: M...|     166.0|\n",
            "|Semi-Slav Defense...|     164.0|\n",
            "|Ruy Lopez: Morphy...|     156.0|\n",
            "|Benoni Defense: C...|     153.0|\n",
            "|Zukertort Opening...|     150.0|\n",
            "|Pirc Defense: Aus...|     146.0|\n",
            "|Sicilian Defense:...|     144.0|\n",
            "|Nimzo-Indian Defe...|     144.0|\n",
            "|French Defense: A...|     142.0|\n",
            "|French Defense: A...|     139.0|\n",
            "|Ruy Lopez: Berlin...|     138.0|\n",
            "|Ruy Lopez: Morphy...|     137.0|\n",
            "|Nimzowitsch Defen...|     137.0|\n",
            "|Bishop's Opening:...|     135.0|\n",
            "+--------------------+----------+\n",
            "only showing top 20 rows\n",
            "\n"
          ]
        }
      ]
    },
    {
      "cell_type": "markdown",
      "source": [
        "Get count of openings played by specific player"
      ],
      "metadata": {
        "id": "Fi_9QBheTY2L"
      }
    },
    {
      "cell_type": "code",
      "source": [
        "#Most openings played by the player 'lance5500'(2nd Highest Rated Player both in white and black)\n",
        "q13 = spark.sql('''SELECT opening_name,count(opening_name) FROM Schema where white_id = 'lance5500' GROUP BY opening_name''')\n",
        "q13.show()"
      ],
      "metadata": {
        "colab": {
          "base_uri": "https://localhost:8080/"
        },
        "id": "LvdapBWUgxTT",
        "outputId": "a257d417-84d8-4db6-ddda-71e44379a9c2"
      },
      "execution_count": null,
      "outputs": [
        {
          "output_type": "stream",
          "name": "stdout",
          "text": [
            "+--------------------+-------------------+\n",
            "|        opening_name|count(opening_name)|\n",
            "+--------------------+-------------------+\n",
            "|        Reti Opening|                  1|\n",
            "|Scandinavian Defe...|                  1|\n",
            "|Bogo-Indian Defen...|                  1|\n",
            "|Caro-Kann Defense...|                  2|\n",
            "|Blumenfeld Counte...|                  1|\n",
            "|Italian Game: Two...|                  1|\n",
            "|Queen's Gambit De...|                  2|\n",
            "|Caro-Kann Defense...|                  1|\n",
            "|Russian Game: Mod...|                  1|\n",
            "|Italian Game: Giu...|                  2|\n",
            "|Italian Game: Two...|                  2|\n",
            "|Gruenfeld Defense...|                  1|\n",
            "|Zukertort Opening...|                  1|\n",
            "| Sicilian Defense #2|                  1|\n",
            "|Russian Game: Mod...|                  1|\n",
            "|Sicilian Defense:...|                  1|\n",
            "|        Queen's Pawn|                  3|\n",
            "|Italian Game: Two...|                  1|\n",
            "|Queen's Gambit De...|                  2|\n",
            "|Sicilian Defense:...|                  1|\n",
            "+--------------------+-------------------+\n",
            "only showing top 20 rows\n",
            "\n"
          ]
        }
      ]
    },
    {
      "cell_type": "markdown",
      "source": [
        "Plotting number of turns with white and black rating "
      ],
      "metadata": {
        "id": "QCWXHrHZTg4A"
      }
    },
    {
      "cell_type": "code",
      "source": [
        "#Plotting thevalue for rating less than 2000 for minimizing the outliers in plotting\n",
        "q14 = spark.sql('''SELECT black_rating, turns FROM Schema where black_rating<2000''').toPandas()\n",
        "fig, axes = plt.subplots(figsize=(10,7))\n",
        "sns.lineplot('black_rating', 'turns', data=q14, ci=95).set_title(\"Trend for Number of Turns per Black's Rating\")\n",
        "\n",
        "# Similar Query for White's Rating\n",
        "sim_q14 = spark.sql('''SELECT white_rating, turns FROM Schema where white_rating<2000''').toPandas()\n",
        "fig, axes = plt.subplots(figsize=(10,7))\n",
        "sns.lineplot('white_rating', 'turns', data=sim_q14, ci=95).set_title(\"Trend for Number of Turns per White's Rating\")"
      ],
      "metadata": {
        "colab": {
          "base_uri": "https://localhost:8080/",
          "height": 1000
        },
        "id": "SYCzwkZgodAk",
        "outputId": "1822b850-00d0-4c63-9483-d4e87c3ff1eb"
      },
      "execution_count": null,
      "outputs": [
        {
          "output_type": "stream",
          "name": "stderr",
          "text": [
            "/usr/local/lib/python3.7/dist-packages/seaborn/_decorators.py:43: FutureWarning: Pass the following variables as keyword args: x, y. From version 0.12, the only valid positional argument will be `data`, and passing other arguments without an explicit keyword will result in an error or misinterpretation.\n",
            "  FutureWarning\n",
            "/usr/local/lib/python3.7/dist-packages/seaborn/_decorators.py:43: FutureWarning: Pass the following variables as keyword args: x, y. From version 0.12, the only valid positional argument will be `data`, and passing other arguments without an explicit keyword will result in an error or misinterpretation.\n",
            "  FutureWarning\n"
          ]
        },
        {
          "output_type": "execute_result",
          "data": {
            "text/plain": [
              "Text(0.5, 1.0, \"Trend for Number of Turns per White's Rating\")"
            ]
          },
          "metadata": {},
          "execution_count": 138
        },
        {
          "output_type": "display_data",
          "data": {
            "text/plain": [
              "<Figure size 720x504 with 1 Axes>"
            ],
            "image/png": "[encoded data removed]"
          },
          "metadata": {
            "needs_background": "light"
          }
        },
        {
          "output_type": "display_data",
          "data": {
            "text/plain": [
              "<Figure size 720x504 with 1 Axes>"
            ],
            "image/png": "[encoded data removed]"
          },
          "metadata": {
            "needs_background": "light"
          }
        }
      ]
    },
    {
      "cell_type": "markdown",
      "source": [
        "Get maximum openings played for higher rated players"
      ],
      "metadata": {
        "id": "Pr_isQCzUhd2"
      }
    },
    {
      "cell_type": "code",
      "source": [
        "q15 = spark.sql('''SELECT opening_name,count(opening_name) from Schema WHERE white_rating>=2000 GROUP BY opening_name ORDER BY count(opening_name) DESC''')\n",
        "q15.toPandas()"
      ],
      "metadata": {
        "colab": {
          "base_uri": "https://localhost:8080/",
          "height": 423
        },
        "id": "58mEJSBQZjBU",
        "outputId": "79dd9dfa-634b-4677-b368-b7e69d12a1eb"
      },
      "execution_count": null,
      "outputs": [
        {
          "output_type": "execute_result",
          "data": {
            "text/plain": [
              "                                          opening_name  count(opening_name)\n",
              "0                                          Indian Game                   18\n",
              "1        Scandinavian Defense: Mieses-Kotroc Variation                   17\n",
              "2                     Queen's Pawn Game: London System                   17\n",
              "3                      Queen's Pawn Game: Mason Attack                   16\n",
              "4                                      Horwitz Defense                   16\n",
              "..                                                 ...                  ...\n",
              "716                Queen's Pawn Game: Krause Variation                    1\n",
              "717  Italian Game: Giuoco Pianissimo |  Canal Varia...                    1\n",
              "718  King's Indian Defense: Orthodox Variation |  B...                    1\n",
              "719  Sicilian Defense: Paulsen Variation |  Bastrik...                    1\n",
              "720  Queen's Indian Defense: Kasparov-Petrosian Var...                    1\n",
              "\n",
              "[721 rows x 2 columns]"
            ],
            "text/html": [
              "\n",
              "  <div id=\"df-55e177cc-36b8-4684-a555-93fdf541f3ef\">\n",
              "    <div class=\"colab-df-container\">\n",
              "      <div>\n",
              "<style scoped>\n",
              "    .dataframe tbody tr th:only-of-type {\n",
              "        vertical-align: middle;\n",
              "    }\n",
              "\n",
              "    .dataframe tbody tr th {\n",
              "        vertical-align: top;\n",
              "    }\n",
              "\n",
              "    .dataframe thead th {\n",
              "        text-align: right;\n",
              "    }\n",
              "</style>\n",
              "<table border=\"1\" class=\"dataframe\">\n",
              "  <thead>\n",
              "    <tr style=\"text-align: right;\">\n",
              "      <th></th>\n",
              "      <th>opening_name</th>\n",
              "      <th>count(opening_name)</th>\n",
              "    </tr>\n",
              "  </thead>\n",
              "  <tbody>\n",
              "    <tr>\n",
              "      <th>0</th>\n",
              "      <td>Indian Game</td>\n",
              "      <td>18</td>\n",
              "    </tr>\n",
              "    <tr>\n",
              "      <th>1</th>\n",
              "      <td>Scandinavian Defense: Mieses-Kotroc Variation</td>\n",
              "      <td>17</td>\n",
              "    </tr>\n",
              "    <tr>\n",
              "      <th>2</th>\n",
              "      <td>Queen's Pawn Game: London System</td>\n",
              "      <td>17</td>\n",
              "    </tr>\n",
              "    <tr>\n",
              "      <th>3</th>\n",
              "      <td>Queen's Pawn Game: Mason Attack</td>\n",
              "      <td>16</td>\n",
              "    </tr>\n",
              "    <tr>\n",
              "      <th>4</th>\n",
              "      <td>Horwitz Defense</td>\n",
              "      <td>16</td>\n",
              "    </tr>\n",
              "    <tr>\n",
              "      <th>...</th>\n",
              "      <td>...</td>\n",
              "      <td>...</td>\n",
              "    </tr>\n",
              "    <tr>\n",
              "      <th>716</th>\n",
              "      <td>Queen's Pawn Game: Krause Variation</td>\n",
              "      <td>1</td>\n",
              "    </tr>\n",
              "    <tr>\n",
              "      <th>717</th>\n",
              "      <td>Italian Game: Giuoco Pianissimo |  Canal Varia...</td>\n",
              "      <td>1</td>\n",
              "    </tr>\n",
              "    <tr>\n",
              "      <th>718</th>\n",
              "      <td>King's Indian Defense: Orthodox Variation |  B...</td>\n",
              "      <td>1</td>\n",
              "    </tr>\n",
              "    <tr>\n",
              "      <th>719</th>\n",
              "      <td>Sicilian Defense: Paulsen Variation |  Bastrik...</td>\n",
              "      <td>1</td>\n",
              "    </tr>\n",
              "    <tr>\n",
              "      <th>720</th>\n",
              "      <td>Queen's Indian Defense: Kasparov-Petrosian Var...</td>\n",
              "      <td>1</td>\n",
              "    </tr>\n",
              "  </tbody>\n",
              "</table>\n",
              "<p>721 rows × 2 columns</p>\n",
              "</div>\n",
              "      <button class=\"colab-df-convert\" onclick=\"convertToInteractive('df-55e177cc-36b8-4684-a555-93fdf541f3ef')\"\n",
              "              title=\"Convert this dataframe to an interactive table.\"\n",
              "              style=\"display:none;\">\n",
              "        \n",
              "  <svg xmlns=\"http://www.w3.org/2000/svg\" height=\"24px\"viewBox=\"0 0 24 24\"\n",
              "       width=\"24px\">\n",
              "    <path d=\"M0 0h24v24H0V0z\" fill=\"none\"/>\n",
              "    <path d=\"M18.56 5.44l.94 2.06.94-2.06 2.06-.94-2.06-.94-.94-2.06-.94 2.06-2.06.94zm-11 1L8.5 8.5l.94-2.06 2.06-.94-2.06-.94L8.5 2.5l-.94 2.06-2.06.94zm10 10l.94 2.06.94-2.06 2.06-.94-2.06-.94-.94-2.06-.94 2.06-2.06.94z\"/><path d=\"M17.41 7.96l-1.37-1.37c-.4-.4-.92-.59-1.43-.59-.52 0-1.04.2-1.43.59L10.3 9.45l-7.72 7.72c-.78.78-.78 2.05 0 2.83L4 21.41c.39.39.9.59 1.41.59.51 0 1.02-.2 1.41-.59l7.78-7.78 2.81-2.81c.8-.78.8-2.07 0-2.86zM5.41 20L4 18.59l7.72-7.72 1.47 1.35L5.41 20z\"/>\n",
              "  </svg>\n",
              "      </button>\n",
              "      \n",
              "  <style>\n",
              "    .colab-df-container {\n",
              "      display:flex;\n",
              "      flex-wrap:wrap;\n",
              "      gap: 12px;\n",
              "    }\n",
              "\n",
              "    .colab-df-convert {\n",
              "      background-color: #E8F0FE;\n",
              "      border: none;\n",
              "      border-radius: 50%;\n",
              "      cursor: pointer;\n",
              "      display: none;\n",
              "      fill: #1967D2;\n",
              "      height: 32px;\n",
              "      padding: 0 0 0 0;\n",
              "      width: 32px;\n",
              "    }\n",
              "\n",
              "    .colab-df-convert:hover {\n",
              "      background-color: #E2EBFA;\n",
              "      box-shadow: 0px 1px 2px rgba(60, 64, 67, 0.3), 0px 1px 3px 1px rgba(60, 64, 67, 0.15);\n",
              "      fill: #174EA6;\n",
              "    }\n",
              "\n",
              "    [theme=dark] .colab-df-convert {\n",
              "      background-color: #3B4455;\n",
              "      fill: #D2E3FC;\n",
              "    }\n",
              "\n",
              "    [theme=dark] .colab-df-convert:hover {\n",
              "      background-color: #434B5C;\n",
              "      box-shadow: 0px 1px 3px 1px rgba(0, 0, 0, 0.15);\n",
              "      filter: drop-shadow(0px 1px 2px rgba(0, 0, 0, 0.3));\n",
              "      fill: #FFFFFF;\n",
              "    }\n",
              "  </style>\n",
              "\n",
              "      <script>\n",
              "        const buttonEl =\n",
              "          document.querySelector('#df-55e177cc-36b8-4684-a555-93fdf541f3ef button.colab-df-convert');\n",
              "        buttonEl.style.display =\n",
              "          google.colab.kernel.accessAllowed ? 'block' : 'none';\n",
              "\n",
              "        async function convertToInteractive(key) {\n",
              "          const element = document.querySelector('#df-55e177cc-36b8-4684-a555-93fdf541f3ef');\n",
              "          const dataTable =\n",
              "            await google.colab.kernel.invokeFunction('convertToInteractive',\n",
              "                                                     [key], {});\n",
              "          if (!dataTable) return;\n",
              "\n",
              "          const docLinkHtml = 'Like what you see? Visit the ' +\n",
              "            '<a target=\"_blank\" href=https://colab.research.google.com/notebooks/data_table.ipynb>data table notebook</a>'\n",
              "            + ' to learn more about interactive tables.';\n",
              "          element.innerHTML = '';\n",
              "          dataTable['output_type'] = 'display_data';\n",
              "          await google.colab.output.renderOutput(dataTable, element);\n",
              "          const docLink = document.createElement('div');\n",
              "          docLink.innerHTML = docLinkHtml;\n",
              "          element.appendChild(docLink);\n",
              "        }\n",
              "      </script>\n",
              "    </div>\n",
              "  </div>\n",
              "  "
            ]
          },
          "metadata": {},
          "execution_count": 195
        }
      ]
    },
    {
      "cell_type": "code",
      "source": [
        "#HTML Code for Heading\n",
        "from IPython.core.display import display, HTML, Javascript\n",
        "html_contents =\"\"\"\n",
        "<!DOCTYPE html>\n",
        "<html lang=\"en\">\n",
        "   <head>\n",
        "   <body>\n",
        "      <p style=\"text-align:center;\">\n",
        "      <subtext>Analysis of Chess Openings</subtext>\n",
        "      </p>\n",
        "   </body>\n",
        "   <style>\n",
        "      @import url('https://fonts.googleapis.com/css?family=Playfair+Display:900');\n",
        "      subtext{\n",
        "      fill: #35322a;\n",
        "      font-family: 'Playfair Display', 'Georgia', serif;\n",
        "      font-size: 30px;\n",
        "      font-weight: 20;\n",
        "      }\n",
        "      html {\n",
        "      align-items: center;\n",
        "      background: #ebe7e0;\n",
        "      display: flex;\n",
        "      justify-content: center;\n",
        "      }\n",
        "     \n",
        "   </style>\n",
        "   </head>\n",
        "</html>\n",
        "\"\"\"\n",
        "HTML(html_contents)"
      ],
      "metadata": {
        "colab": {
          "base_uri": "https://localhost:8080/",
          "height": 66
        },
        "id": "FN9Hr6ku7R7S",
        "outputId": "32e61d40-9cd0-47dc-aeea-fec80d1169de"
      },
      "execution_count": null,
      "outputs": [
        {
          "output_type": "execute_result",
          "data": {
            "text/plain": [
              "<IPython.core.display.HTML object>"
            ],
            "text/html": [
              "\n",
              "<!DOCTYPE html>\n",
              "<html lang=\"en\">\n",
              "   <head>\n",
              "   <body>\n",
              "      <p style=\"text-align:center;\">\n",
              "      <subtext>Analysis of Chess Openings</subtext>\n",
              "      </p>\n",
              "   </body>\n",
              "   <style>\n",
              "      @import url('https://fonts.googleapis.com/css?family=Playfair+Display:900');\n",
              "      subtext{\n",
              "      fill: #35322a;\n",
              "      font-family: 'Playfair Display', 'Georgia', serif;\n",
              "      font-size: 30px;\n",
              "      font-weight: 20;\n",
              "      }\n",
              "      html {\n",
              "      align-items: center;\n",
              "      background: #ebe7e0;\n",
              "      display: flex;\n",
              "      justify-content: center;\n",
              "      }\n",
              "     \n",
              "   </style>\n",
              "   </head>\n",
              "</html>\n"
            ]
          },
          "metadata": {},
          "execution_count": 112
        }
      ]
    },
    {
      "cell_type": "markdown",
      "source": [
        "Get number of victory statuses in Lichess\n",
        "\n",
        "*   Draw\n",
        "*   Mate\n",
        "*   Out of Time\n",
        "*   Resign\n",
        "\n",
        "\n",
        "\n"
      ],
      "metadata": {
        "id": "L2GNVWk8UrDq"
      }
    },
    {
      "cell_type": "code",
      "source": [
        "q16 = spark.sql('''SELECT victory_status,count(victory_status) FROM Schema GROUP BY victory_status ORDER BY victory_status''')\n",
        "q16.show()"
      ],
      "metadata": {
        "colab": {
          "base_uri": "https://localhost:8080/"
        },
        "id": "b80I-4l7T43g",
        "outputId": "93b6d38b-ddc5-470e-e9d3-ec91cfecaa2f"
      },
      "execution_count": null,
      "outputs": [
        {
          "output_type": "stream",
          "name": "stdout",
          "text": [
            "+--------------+---------------------+\n",
            "|victory_status|count(victory_status)|\n",
            "+--------------+---------------------+\n",
            "|          draw|                  906|\n",
            "|          mate|                 6325|\n",
            "|     outoftime|                 1680|\n",
            "|        resign|                11147|\n",
            "+--------------+---------------------+\n",
            "\n"
          ]
        }
      ]
    },
    {
      "cell_type": "markdown",
      "source": [
        "Get average number of turns for every increment type"
      ],
      "metadata": {
        "id": "6qPF7mUFVAV6"
      }
    },
    {
      "cell_type": "code",
      "source": [
        "q17 = spark.sql('''SELECT increment_code,avg(turns) FROM Schema GROUP BY increment_code ORDER BY avg(turns) ''')\n",
        "q17.toPandas()"
      ],
      "metadata": {
        "colab": {
          "base_uri": "https://localhost:8080/",
          "height": 423
        },
        "id": "jIndSWLvUvq6",
        "outputId": "c31e6ddb-7b05-47a6-edd3-32762c05c788"
      },
      "execution_count": null,
      "outputs": [
        {
          "output_type": "execute_result",
          "data": {
            "text/plain": [
              "    increment_code  avg(turns)\n",
              "0          150+180    2.000000\n",
              "1            35+15    3.000000\n",
              "2            30+60    3.000000\n",
              "3             11+7    5.000000\n",
              "4            40+20    6.000000\n",
              "..             ...         ...\n",
              "395           14+6  112.333333\n",
              "396          120+5  118.000000\n",
              "397         90+120  125.000000\n",
              "398           16+1  137.000000\n",
              "399          20+11  151.000000\n",
              "\n",
              "[400 rows x 2 columns]"
            ],
            "text/html": [
              "\n",
              "  <div id=\"df-a16ceb14-f933-4661-ae1f-e159e0e239c5\">\n",
              "    <div class=\"colab-df-container\">\n",
              "      <div>\n",
              "<style scoped>\n",
              "    .dataframe tbody tr th:only-of-type {\n",
              "        vertical-align: middle;\n",
              "    }\n",
              "\n",
              "    .dataframe tbody tr th {\n",
              "        vertical-align: top;\n",
              "    }\n",
              "\n",
              "    .dataframe thead th {\n",
              "        text-align: right;\n",
              "    }\n",
              "</style>\n",
              "<table border=\"1\" class=\"dataframe\">\n",
              "  <thead>\n",
              "    <tr style=\"text-align: right;\">\n",
              "      <th></th>\n",
              "      <th>increment_code</th>\n",
              "      <th>avg(turns)</th>\n",
              "    </tr>\n",
              "  </thead>\n",
              "  <tbody>\n",
              "    <tr>\n",
              "      <th>0</th>\n",
              "      <td>150+180</td>\n",
              "      <td>2.000000</td>\n",
              "    </tr>\n",
              "    <tr>\n",
              "      <th>1</th>\n",
              "      <td>35+15</td>\n",
              "      <td>3.000000</td>\n",
              "    </tr>\n",
              "    <tr>\n",
              "      <th>2</th>\n",
              "      <td>30+60</td>\n",
              "      <td>3.000000</td>\n",
              "    </tr>\n",
              "    <tr>\n",
              "      <th>3</th>\n",
              "      <td>11+7</td>\n",
              "      <td>5.000000</td>\n",
              "    </tr>\n",
              "    <tr>\n",
              "      <th>4</th>\n",
              "      <td>40+20</td>\n",
              "      <td>6.000000</td>\n",
              "    </tr>\n",
              "    <tr>\n",
              "      <th>...</th>\n",
              "      <td>...</td>\n",
              "      <td>...</td>\n",
              "    </tr>\n",
              "    <tr>\n",
              "      <th>395</th>\n",
              "      <td>14+6</td>\n",
              "      <td>112.333333</td>\n",
              "    </tr>\n",
              "    <tr>\n",
              "      <th>396</th>\n",
              "      <td>120+5</td>\n",
              "      <td>118.000000</td>\n",
              "    </tr>\n",
              "    <tr>\n",
              "      <th>397</th>\n",
              "      <td>90+120</td>\n",
              "      <td>125.000000</td>\n",
              "    </tr>\n",
              "    <tr>\n",
              "      <th>398</th>\n",
              "      <td>16+1</td>\n",
              "      <td>137.000000</td>\n",
              "    </tr>\n",
              "    <tr>\n",
              "      <th>399</th>\n",
              "      <td>20+11</td>\n",
              "      <td>151.000000</td>\n",
              "    </tr>\n",
              "  </tbody>\n",
              "</table>\n",
              "<p>400 rows × 2 columns</p>\n",
              "</div>\n",
              "      <button class=\"colab-df-convert\" onclick=\"convertToInteractive('df-a16ceb14-f933-4661-ae1f-e159e0e239c5')\"\n",
              "              title=\"Convert this dataframe to an interactive table.\"\n",
              "              style=\"display:none;\">\n",
              "        \n",
              "  <svg xmlns=\"http://www.w3.org/2000/svg\" height=\"24px\"viewBox=\"0 0 24 24\"\n",
              "       width=\"24px\">\n",
              "    <path d=\"M0 0h24v24H0V0z\" fill=\"none\"/>\n",
              "    <path d=\"M18.56 5.44l.94 2.06.94-2.06 2.06-.94-2.06-.94-.94-2.06-.94 2.06-2.06.94zm-11 1L8.5 8.5l.94-2.06 2.06-.94-2.06-.94L8.5 2.5l-.94 2.06-2.06.94zm10 10l.94 2.06.94-2.06 2.06-.94-2.06-.94-.94-2.06-.94 2.06-2.06.94z\"/><path d=\"M17.41 7.96l-1.37-1.37c-.4-.4-.92-.59-1.43-.59-.52 0-1.04.2-1.43.59L10.3 9.45l-7.72 7.72c-.78.78-.78 2.05 0 2.83L4 21.41c.39.39.9.59 1.41.59.51 0 1.02-.2 1.41-.59l7.78-7.78 2.81-2.81c.8-.78.8-2.07 0-2.86zM5.41 20L4 18.59l7.72-7.72 1.47 1.35L5.41 20z\"/>\n",
              "  </svg>\n",
              "      </button>\n",
              "      \n",
              "  <style>\n",
              "    .colab-df-container {\n",
              "      display:flex;\n",
              "      flex-wrap:wrap;\n",
              "      gap: 12px;\n",
              "    }\n",
              "\n",
              "    .colab-df-convert {\n",
              "      background-color: #E8F0FE;\n",
              "      border: none;\n",
              "      border-radius: 50%;\n",
              "      cursor: pointer;\n",
              "      display: none;\n",
              "      fill: #1967D2;\n",
              "      height: 32px;\n",
              "      padding: 0 0 0 0;\n",
              "      width: 32px;\n",
              "    }\n",
              "\n",
              "    .colab-df-convert:hover {\n",
              "      background-color: #E2EBFA;\n",
              "      box-shadow: 0px 1px 2px rgba(60, 64, 67, 0.3), 0px 1px 3px 1px rgba(60, 64, 67, 0.15);\n",
              "      fill: #174EA6;\n",
              "    }\n",
              "\n",
              "    [theme=dark] .colab-df-convert {\n",
              "      background-color: #3B4455;\n",
              "      fill: #D2E3FC;\n",
              "    }\n",
              "\n",
              "    [theme=dark] .colab-df-convert:hover {\n",
              "      background-color: #434B5C;\n",
              "      box-shadow: 0px 1px 3px 1px rgba(0, 0, 0, 0.15);\n",
              "      filter: drop-shadow(0px 1px 2px rgba(0, 0, 0, 0.3));\n",
              "      fill: #FFFFFF;\n",
              "    }\n",
              "  </style>\n",
              "\n",
              "      <script>\n",
              "        const buttonEl =\n",
              "          document.querySelector('#df-a16ceb14-f933-4661-ae1f-e159e0e239c5 button.colab-df-convert');\n",
              "        buttonEl.style.display =\n",
              "          google.colab.kernel.accessAllowed ? 'block' : 'none';\n",
              "\n",
              "        async function convertToInteractive(key) {\n",
              "          const element = document.querySelector('#df-a16ceb14-f933-4661-ae1f-e159e0e239c5');\n",
              "          const dataTable =\n",
              "            await google.colab.kernel.invokeFunction('convertToInteractive',\n",
              "                                                     [key], {});\n",
              "          if (!dataTable) return;\n",
              "\n",
              "          const docLinkHtml = 'Like what you see? Visit the ' +\n",
              "            '<a target=\"_blank\" href=https://colab.research.google.com/notebooks/data_table.ipynb>data table notebook</a>'\n",
              "            + ' to learn more about interactive tables.';\n",
              "          element.innerHTML = '';\n",
              "          dataTable['output_type'] = 'display_data';\n",
              "          await google.colab.output.renderOutput(dataTable, element);\n",
              "          const docLink = document.createElement('div');\n",
              "          docLink.innerHTML = docLinkHtml;\n",
              "          element.appendChild(docLink);\n",
              "        }\n",
              "      </script>\n",
              "    </div>\n",
              "  </div>\n",
              "  "
            ]
          },
          "metadata": {},
          "execution_count": 114
        }
      ]
    },
    {
      "cell_type": "markdown",
      "source": [
        "Get Total count of specific opening variatons played"
      ],
      "metadata": {
        "id": "PsUjTq-CVhhq"
      }
    },
    {
      "cell_type": "code",
      "source": [
        "q18=spark.sql('''SELECT moves from Schema where opening_name = 'Caro-Kann Defense: Tartakower Variation' ''')\n",
        "q18.count()\n"
      ],
      "metadata": {
        "colab": {
          "base_uri": "https://localhost:8080/"
        },
        "id": "0fjYmsYRbSVa",
        "outputId": "c68afa82-2810-4287-acd4-2e88abad92f5"
      },
      "execution_count": null,
      "outputs": [
        {
          "output_type": "execute_result",
          "data": {
            "text/plain": [
              "7"
            ]
          },
          "metadata": {},
          "execution_count": 117
        }
      ]
    },
    {
      "cell_type": "markdown",
      "source": [
        "Get performance of players based on their opening preperation"
      ],
      "metadata": {
        "id": "fVkgyaFTWHy2"
      }
    },
    {
      "cell_type": "code",
      "source": [
        "#Analyzing the performance of plyayers rated above 2000 and their opening preperation\n",
        "q19 = spark.sql('''SELECT opening_name,avg(opening_ply) from Schema where white_rating>2000 GROUP BY opening_name ORDER BY avg(opening_ply) DESC''')\n",
        "q19.toPandas()\n",
        "\n",
        "#Analyzing the performance of players rated below 1200 and their opening preperation\n",
        "q20 = spark.sql('''SELECT opening_name,avg(opening_ply) from Schema where black_rating<1200 GROUP BY opening_name ORDER BY avg(opening_ply) DESC''')\n",
        "q20.toPandas()\n"
      ],
      "metadata": {
        "id": "-rtcaBEYufpB"
      },
      "execution_count": null,
      "outputs": []
    },
    {
      "cell_type": "markdown",
      "source": [
        "Get most popular increment type on Lichess"
      ],
      "metadata": {
        "id": "9lQEHM4_WVHD"
      }
    },
    {
      "cell_type": "code",
      "source": [
        "q21 = spark.sql('''SELECT increment_code,count(increment_code) from Schema GROUP BY increment_code ORDER BY count(increment_code) DESC''')\n",
        "q21.show(10)"
      ],
      "metadata": {
        "colab": {
          "base_uri": "https://localhost:8080/"
        },
        "id": "9357oA5RrXnG",
        "outputId": "1fb54cfc-cbac-457b-805f-92a98bcc52aa"
      },
      "execution_count": null,
      "outputs": [
        {
          "output_type": "stream",
          "name": "stdout",
          "text": [
            "+--------------+---------------------+\n",
            "|increment_code|count(increment_code)|\n",
            "+--------------+---------------------+\n",
            "|          10+0|                 7721|\n",
            "|          15+0|                 1311|\n",
            "|         15+15|                  850|\n",
            "|           5+5|                  738|\n",
            "|           5+8|                  697|\n",
            "|           8+0|                  588|\n",
            "|          10+5|                  579|\n",
            "|         15+10|                  461|\n",
            "|          20+0|                  448|\n",
            "|          30+0|                  375|\n",
            "+--------------+---------------------+\n",
            "only showing top 10 rows\n",
            "\n"
          ]
        }
      ]
    },
    {
      "cell_type": "code",
      "source": [
        "#HTML Code for Heading\n",
        "from IPython.core.display import display, HTML, Javascript\n",
        "html_contents =\"\"\"\n",
        "<!DOCTYPE html>\n",
        "<html lang=\"en\">\n",
        "   <head>\n",
        "   <body>\n",
        "      <p style=\"text-align:center;\">\n",
        "      <subtext>Miscellaneous Graph Analysis</subtext>\n",
        "      </p>\n",
        "   </body>\n",
        "   <style>\n",
        "      @import url('https://fonts.googleapis.com/css?family=Playfair+Display:900');\n",
        "      subtext{\n",
        "      fill: #35322a;\n",
        "      font-family: 'Playfair Display', 'Georgia', serif;\n",
        "      font-size: 30px;\n",
        "      font-weight: 20;\n",
        "      }\n",
        "      html {\n",
        "      align-items: center;\n",
        "      background: #ebe7e0;\n",
        "      display: flex;\n",
        "      justify-content: center;\n",
        "      }\n",
        "     \n",
        "   </style>\n",
        "   </head>\n",
        "</html>\n",
        "\"\"\"\n",
        "HTML(html_contents)"
      ],
      "metadata": {
        "colab": {
          "base_uri": "https://localhost:8080/",
          "height": 66
        },
        "id": "kyeVEdb8Opzj",
        "outputId": "e8fba0a0-c712-439f-9dc8-afafcbb61793"
      },
      "execution_count": null,
      "outputs": [
        {
          "output_type": "execute_result",
          "data": {
            "text/plain": [
              "<IPython.core.display.HTML object>"
            ],
            "text/html": [
              "\n",
              "<!DOCTYPE html>\n",
              "<html lang=\"en\">\n",
              "   <head>\n",
              "   <body>\n",
              "      <p style=\"text-align:center;\">\n",
              "      <subtext>Miscellaneous Graph Analysis</subtext>\n",
              "      </p>\n",
              "   </body>\n",
              "   <style>\n",
              "      @import url('https://fonts.googleapis.com/css?family=Playfair+Display:900');\n",
              "      subtext{\n",
              "      fill: #35322a;\n",
              "      font-family: 'Playfair Display', 'Georgia', serif;\n",
              "      font-size: 30px;\n",
              "      font-weight: 20;\n",
              "      }\n",
              "      html {\n",
              "      align-items: center;\n",
              "      background: #ebe7e0;\n",
              "      display: flex;\n",
              "      justify-content: center;\n",
              "      }\n",
              "     \n",
              "   </style>\n",
              "   </head>\n",
              "</html>\n"
            ]
          },
          "metadata": {},
          "execution_count": 102
        }
      ]
    },
    {
      "cell_type": "markdown",
      "source": [
        "Plotting the status of most popular format on lichess with winning rate and white's rating\n"
      ],
      "metadata": {
        "id": "uP49XPu2Wdln"
      }
    },
    {
      "cell_type": "code",
      "source": [
        "q22 = spark.sql('''SELECT white_rating,turns from Schema WHERE increment_code = '10+0' and winner='white' ORDER BY white_rating ASC''').toPandas()\n",
        "fig, axes = plt.subplots(figsize=(10,7))\n",
        "sns.lineplot('white_rating', 'turns', data=q22, ci=95).set_title('Trend for Number of Turns per White Rating At 10+0 for White winning')\n"
      ],
      "metadata": {
        "colab": {
          "base_uri": "https://localhost:8080/",
          "height": 531
        },
        "id": "J4PJOGrZg0Sx",
        "outputId": "eefb23de-fdfc-4186-ee50-b30db927b508"
      },
      "execution_count": null,
      "outputs": [
        {
          "output_type": "stream",
          "name": "stderr",
          "text": [
            "/usr/local/lib/python3.7/dist-packages/seaborn/_decorators.py:43: FutureWarning: Pass the following variables as keyword args: x, y. From version 0.12, the only valid positional argument will be `data`, and passing other arguments without an explicit keyword will result in an error or misinterpretation.\n",
            "  FutureWarning\n"
          ]
        },
        {
          "output_type": "execute_result",
          "data": {
            "text/plain": [
              "Text(0.5, 1.0, 'Trend for Number of Turns per White Rating At 10+0 for White winning')"
            ]
          },
          "metadata": {},
          "execution_count": 28
        },
        {
          "output_type": "display_data",
          "data": {
            "text/plain": [
              "<Figure size 720x504 with 1 Axes>"
            ],
            "image/png": "[encoded data removed]"
          },
          "metadata": {
            "needs_background": "light"
          }
        }
      ]
    },
    {
      "cell_type": "markdown",
      "source": [
        "Frequency Distributions for Rated Players and Turns"
      ],
      "metadata": {
        "id": "g_OE1sw3WkVc"
      }
    },
    {
      "cell_type": "code",
      "source": [
        "#Frequency Distribution for White Rated Players\n",
        "q23 = spark.sql('''SELECT white_rating from Schema ORDER BY white_rating ASC ''').toPandas()\n",
        "sns.displot(q23).set_xlabels(\"White Rating\").set_ylabels(\"Number of Players\").set( title=\"Frequency Distribution for White Rated Players\")\n",
        "\n",
        "#Frequency Distribution for Black Rated Players\n",
        "q24 = spark.sql('''SELECT black_rating from Schema ORDER BY black_rating ASC ''').toPandas()\n",
        "sns.displot(q24).set_xlabels(\"Black Rating\").set_ylabels(\"Number of Players\").set(title=\"Frequency Distribution for Black Rated Players\") \n",
        "\n",
        "#Frequency Distribution for Turns \n",
        "q25 = spark.sql('''SELECT turns from Schema ORDER BY turns ASC''').toPandas()\n",
        "sns.displot(q25).set_xlabels(\"Number of Turns\").set_ylabels(\"Number of Players\").set(title=\"Frequency Distribution Number of Turns\") \n"
      ],
      "metadata": {
        "colab": {
          "base_uri": "https://localhost:8080/",
          "height": 1000
        },
        "id": "9vgv_RkFr8u-",
        "outputId": "491739ff-0458-45d3-f48c-3bfbc968d954"
      },
      "execution_count": null,
      "outputs": [
        {
          "output_type": "execute_result",
          "data": {
            "text/plain": [
              "<seaborn.axisgrid.FacetGrid at 0x7f7a72b519d0>"
            ]
          },
          "metadata": {},
          "execution_count": 60
        },
        {
          "output_type": "display_data",
          "data": {
            "text/plain": [
              "<Figure size 458.125x360 with 1 Axes>"
            ],
            "image/png": "[encoded data removed]"
          },
          "metadata": {
            "needs_background": "light"
          }
        },
        {
          "output_type": "display_data",
          "data": {
            "text/plain": [
              "<Figure size 457.25x360 with 1 Axes>"
            ],
            "image/png": "[encoded data removed]"
          },
          "metadata": {
            "needs_background": "light"
          }
        },
        {
          "output_type": "display_data",
          "data": {
            "text/plain": [
              "<Figure size 421.875x360 with 1 Axes>"
            ],
            "image/png": "[encoded data removed]"
          },
          "metadata": {
            "needs_background": "light"
          }
        }
      ]
    },
    {
      "cell_type": "markdown",
      "source": [
        "Pie chart for Registered Rated Players"
      ],
      "metadata": {
        "id": "7d7gso2LWyIn"
      }
    },
    {
      "cell_type": "code",
      "source": [
        "q26 = spark.sql('''SELECT rated from Schema where rated='TRUE' ''').count()\n",
        "q27 = spark.sql('''SELECT rated from Schema''')\n",
        "\n",
        "temp = q27.count()\n",
        "a = (q26 * 100) / temp #Answer = 80.54%\n",
        "\n",
        "values = [a,100-a]\n",
        "exp_labels = [\"Rated\",\"Not Rated\"]\n",
        "plt.title(\"Pie Chart for Registered Rated Players on Lichess\")\n",
        "plt.pie(values,explode=None,labels=exp_labels,colors=None,autopct=\"%0.1f%%\")"
      ],
      "metadata": {
        "colab": {
          "base_uri": "https://localhost:8080/",
          "height": 368
        },
        "id": "dw0IjYHw9iba",
        "outputId": "1aa7fe80-cca9-4773-dbd7-fc76cf6de4e2"
      },
      "execution_count": null,
      "outputs": [
        {
          "output_type": "execute_result",
          "data": {
            "text/plain": [
              "([<matplotlib.patches.Wedge at 0x7f7a09bdaf50>,\n",
              "  <matplotlib.patches.Wedge at 0x7f7a0a56fa50>],\n",
              " [Text(-0.9007870915587481, 0.6313339969312058, 'Rated'),\n",
              "  Text(0.9007870324489894, -0.6313340812689773, 'Not Rated')],\n",
              " [Text(-0.4913384135774989, 0.34436399832611225, '80.5%'),\n",
              "  Text(0.4913383813358123, -0.344364044328533, '19.5%')])"
            ]
          },
          "metadata": {},
          "execution_count": 105
        },
        {
          "output_type": "display_data",
          "data": {
            "text/plain": [
              "<Figure size 432x288 with 1 Axes>"
            ],
            "image/png": "[encoded data removed]"
          },
          "metadata": {}
        }
      ]
    },
    {
      "cell_type": "markdown",
      "source": [
        "Frequency Distribution for Opening Preperation"
      ],
      "metadata": {
        "id": "eJIOdNumW4cu"
      }
    },
    {
      "cell_type": "code",
      "source": [
        "q28 = spark.sql('''SELECT opening_ply FROM Schema ORDER BY opening_ply ASC''').toPandas()\n",
        "sns.displot(q28).set_xlabels(\"No of Moves\").set_ylabels(\"Number of Players\").set( title=\"Frequency Distribution for Opening Preperation\")"
      ],
      "metadata": {
        "colab": {
          "base_uri": "https://localhost:8080/",
          "height": 416
        },
        "id": "YXwklmuMPYWv",
        "outputId": "22716ead-7118-49f8-c92b-701a56513876"
      },
      "execution_count": null,
      "outputs": [
        {
          "output_type": "execute_result",
          "data": {
            "text/plain": [
              "<seaborn.axisgrid.FacetGrid at 0x7f7a08d1cf90>"
            ]
          },
          "metadata": {},
          "execution_count": 118
        },
        {
          "output_type": "display_data",
          "data": {
            "text/plain": [
              "<Figure size 456.375x360 with 1 Axes>"
            ],
            "image/png": "[encoded data removed]"
          },
          "metadata": {
            "needs_background": "light"
          }
        }
      ]
    },
    {
      "cell_type": "markdown",
      "source": [
        "XGBoost Model for Calculating the Mean Absolute Error"
      ],
      "metadata": {
        "id": "I4w5KMPWr7r8"
      }
    },
    {
      "cell_type": "code",
      "source": [
        "#importing xgboost\n",
        "from xgboost import XGBRegressor\n",
        "from xgboost import XGBClassifier\n",
        "\n",
        "\n",
        "a = spark.sql('''SELECT  white_rating FROM Schema ORDER BY white_rating ASC''').toPandas()\n",
        "b = spark.sql('''SELECT turns FROM Schema ORDER BY turns ASC''').toPandas()\n",
        "\n",
        "c = spark.sql('''SELECT  white_rating FROM Schema limit 10000''').toPandas()\n",
        "d = spark.sql('''SELECT turns FROM Schema limit 10000''').toPandas()\n",
        "\n",
        "from sklearn.metrics import mean_absolute_error\n",
        "model = XGBRegressor()\n",
        "model.fit(a,b)\n",
        "prediction = model.predict(c)\n",
        "print(\"Mean Absolute Error: \" + str(mean_absolute_error(prediction,d)))\n",
        "# Mean Absolute Error: 33.571145953392985 "
      ],
      "metadata": {
        "colab": {
          "base_uri": "https://localhost:8080/"
        },
        "id": "xZwpTrITQkaY",
        "outputId": "082090a7-ab2f-4bb4-8aef-853ad469a255"
      },
      "execution_count": null,
      "outputs": [
        {
          "output_type": "stream",
          "name": "stdout",
          "text": [
            "[11:05:04] WARNING: /workspace/src/objective/regression_obj.cu:152: reg:linear is now deprecated in favor of reg:squarederror.\n",
            "Mean Absolute Error: 33.571145953392985\n"
          ]
        }
      ]
    },
    {
      "cell_type": "markdown",
      "source": [
        ""
      ],
      "metadata": {
        "id": "YzqwtXGpSj3M"
      }
    },
    {
      "cell_type": "code",
      "source": [
        "#importing xgboost\n",
        "import pandas as pd\n",
        "from xgboost import XGBRegressor\n",
        "from xgboost import XGBClassifier\n",
        "a = spark.sql('''SELECT turns FROM Schema''').toPandas()\n",
        "b = spark.sql('''SELECT victory_status FROM Schema''').toPandas()\n",
        "c = spark.sql(''' SELECT winner FROM Schema ''').toPandas()\n",
        "x=pd.DataFrame()\n",
        "x['turns']=a\n",
        "x['vs']=b\n",
        "from sklearn.model_selection import train_test_split\n",
        "x.head()\n",
        "# x_train\n",
        "# model = XGBClassifier()\n",
        "# model.fit(xtrain, ytrain)\n",
        "# prediction = model.predict(c)"
      ],
      "metadata": {
        "colab": {
          "base_uri": "https://localhost:8080/",
          "height": 206
        },
        "id": "xA3Mn2LhLnxB",
        "outputId": "ebe6a033-a07e-4f93-ff61-8c805f4a3c78"
      },
      "execution_count": null,
      "outputs": [
        {
          "output_type": "execute_result",
          "data": {
            "text/plain": [
              "   turns         vs\n",
              "0     13  outoftime\n",
              "1     16     resign\n",
              "2     61       mate\n",
              "3     61       mate\n",
              "4     95       mate"
            ],
            "text/html": [
              "\n",
              "  <div id=\"df-6a40d216-08bc-46c8-bd0b-73c7a06d3663\">\n",
              "    <div class=\"colab-df-container\">\n",
              "      <div>\n",
              "<style scoped>\n",
              "    .dataframe tbody tr th:only-of-type {\n",
              "        vertical-align: middle;\n",
              "    }\n",
              "\n",
              "    .dataframe tbody tr th {\n",
              "        vertical-align: top;\n",
              "    }\n",
              "\n",
              "    .dataframe thead th {\n",
              "        text-align: right;\n",
              "    }\n",
              "</style>\n",
              "<table border=\"1\" class=\"dataframe\">\n",
              "  <thead>\n",
              "    <tr style=\"text-align: right;\">\n",
              "      <th></th>\n",
              "      <th>turns</th>\n",
              "      <th>vs</th>\n",
              "    </tr>\n",
              "  </thead>\n",
              "  <tbody>\n",
              "    <tr>\n",
              "      <th>0</th>\n",
              "      <td>13</td>\n",
              "      <td>outoftime</td>\n",
              "    </tr>\n",
              "    <tr>\n",
              "      <th>1</th>\n",
              "      <td>16</td>\n",
              "      <td>resign</td>\n",
              "    </tr>\n",
              "    <tr>\n",
              "      <th>2</th>\n",
              "      <td>61</td>\n",
              "      <td>mate</td>\n",
              "    </tr>\n",
              "    <tr>\n",
              "      <th>3</th>\n",
              "      <td>61</td>\n",
              "      <td>mate</td>\n",
              "    </tr>\n",
              "    <tr>\n",
              "      <th>4</th>\n",
              "      <td>95</td>\n",
              "      <td>mate</td>\n",
              "    </tr>\n",
              "  </tbody>\n",
              "</table>\n",
              "</div>\n",
              "      <button class=\"colab-df-convert\" onclick=\"convertToInteractive('df-6a40d216-08bc-46c8-bd0b-73c7a06d3663')\"\n",
              "              title=\"Convert this dataframe to an interactive table.\"\n",
              "              style=\"display:none;\">\n",
              "        \n",
              "  <svg xmlns=\"http://www.w3.org/2000/svg\" height=\"24px\"viewBox=\"0 0 24 24\"\n",
              "       width=\"24px\">\n",
              "    <path d=\"M0 0h24v24H0V0z\" fill=\"none\"/>\n",
              "    <path d=\"M18.56 5.44l.94 2.06.94-2.06 2.06-.94-2.06-.94-.94-2.06-.94 2.06-2.06.94zm-11 1L8.5 8.5l.94-2.06 2.06-.94-2.06-.94L8.5 2.5l-.94 2.06-2.06.94zm10 10l.94 2.06.94-2.06 2.06-.94-2.06-.94-.94-2.06-.94 2.06-2.06.94z\"/><path d=\"M17.41 7.96l-1.37-1.37c-.4-.4-.92-.59-1.43-.59-.52 0-1.04.2-1.43.59L10.3 9.45l-7.72 7.72c-.78.78-.78 2.05 0 2.83L4 21.41c.39.39.9.59 1.41.59.51 0 1.02-.2 1.41-.59l7.78-7.78 2.81-2.81c.8-.78.8-2.07 0-2.86zM5.41 20L4 18.59l7.72-7.72 1.47 1.35L5.41 20z\"/>\n",
              "  </svg>\n",
              "      </button>\n",
              "      \n",
              "  <style>\n",
              "    .colab-df-container {\n",
              "      display:flex;\n",
              "      flex-wrap:wrap;\n",
              "      gap: 12px;\n",
              "    }\n",
              "\n",
              "    .colab-df-convert {\n",
              "      background-color: #E8F0FE;\n",
              "      border: none;\n",
              "      border-radius: 50%;\n",
              "      cursor: pointer;\n",
              "      display: none;\n",
              "      fill: #1967D2;\n",
              "      height: 32px;\n",
              "      padding: 0 0 0 0;\n",
              "      width: 32px;\n",
              "    }\n",
              "\n",
              "    .colab-df-convert:hover {\n",
              "      background-color: #E2EBFA;\n",
              "      box-shadow: 0px 1px 2px rgba(60, 64, 67, 0.3), 0px 1px 3px 1px rgba(60, 64, 67, 0.15);\n",
              "      fill: #174EA6;\n",
              "    }\n",
              "\n",
              "    [theme=dark] .colab-df-convert {\n",
              "      background-color: #3B4455;\n",
              "      fill: #D2E3FC;\n",
              "    }\n",
              "\n",
              "    [theme=dark] .colab-df-convert:hover {\n",
              "      background-color: #434B5C;\n",
              "      box-shadow: 0px 1px 3px 1px rgba(0, 0, 0, 0.15);\n",
              "      filter: drop-shadow(0px 1px 2px rgba(0, 0, 0, 0.3));\n",
              "      fill: #FFFFFF;\n",
              "    }\n",
              "  </style>\n",
              "\n",
              "      <script>\n",
              "        const buttonEl =\n",
              "          document.querySelector('#df-6a40d216-08bc-46c8-bd0b-73c7a06d3663 button.colab-df-convert');\n",
              "        buttonEl.style.display =\n",
              "          google.colab.kernel.accessAllowed ? 'block' : 'none';\n",
              "\n",
              "        async function convertToInteractive(key) {\n",
              "          const element = document.querySelector('#df-6a40d216-08bc-46c8-bd0b-73c7a06d3663');\n",
              "          const dataTable =\n",
              "            await google.colab.kernel.invokeFunction('convertToInteractive',\n",
              "                                                     [key], {});\n",
              "          if (!dataTable) return;\n",
              "\n",
              "          const docLinkHtml = 'Like what you see? Visit the ' +\n",
              "            '<a target=\"_blank\" href=https://colab.research.google.com/notebooks/data_table.ipynb>data table notebook</a>'\n",
              "            + ' to learn more about interactive tables.';\n",
              "          element.innerHTML = '';\n",
              "          dataTable['output_type'] = 'display_data';\n",
              "          await google.colab.output.renderOutput(dataTable, element);\n",
              "          const docLink = document.createElement('div');\n",
              "          docLink.innerHTML = docLinkHtml;\n",
              "          element.appendChild(docLink);\n",
              "        }\n",
              "      </script>\n",
              "    </div>\n",
              "  </div>\n",
              "  "
            ]
          },
          "metadata": {},
          "execution_count": 148
        }
      ]
    },
    {
      "cell_type": "code",
      "source": [
        "x['vs'].unique()"
      ],
      "metadata": {
        "colab": {
          "base_uri": "https://localhost:8080/"
        },
        "id": "lAT_uC3dN9ff",
        "outputId": "e941edb8-47b1-4795-b8d1-31fd37357620"
      },
      "execution_count": null,
      "outputs": [
        {
          "output_type": "execute_result",
          "data": {
            "text/plain": [
              "array(['outoftime', 'resign', 'mate', 'draw'], dtype=object)"
            ]
          },
          "metadata": {},
          "execution_count": 149
        }
      ]
    },
    {
      "cell_type": "code",
      "source": [
        "# Label Encoding\n",
        "from sklearn import preprocessing\n",
        "le = preprocessing.LabelEncoder()\n",
        "le.fit(x['vs'])"
      ],
      "metadata": {
        "colab": {
          "base_uri": "https://localhost:8080/"
        },
        "id": "-klRG7XdOCBn",
        "outputId": "7dfeb4ff-042f-47a9-8625-9511736b8d6f"
      },
      "execution_count": null,
      "outputs": [
        {
          "output_type": "execute_result",
          "data": {
            "text/plain": [
              "LabelEncoder()"
            ]
          },
          "metadata": {},
          "execution_count": 162
        }
      ]
    },
    {
      "cell_type": "code",
      "source": [
        "x['vs']=le.transform(x['vs'])"
      ],
      "metadata": {
        "id": "ShQUmKxcORuO"
      },
      "execution_count": null,
      "outputs": []
    },
    {
      "cell_type": "code",
      "source": [
        "x.head()"
      ],
      "metadata": {
        "colab": {
          "base_uri": "https://localhost:8080/",
          "height": 214
        },
        "id": "UPienVsoOWuR",
        "outputId": "fdca6b2d-0716-492e-9df0-15bec92eeae0"
      },
      "execution_count": null,
      "outputs": [
        {
          "output_type": "execute_result",
          "data": {
            "text/plain": [
              "   turns  vs\n",
              "0     13   2\n",
              "1     16   3\n",
              "2     61   1\n",
              "3     61   1\n",
              "4     95   1"
            ],
            "text/html": [
              "\n",
              "  <div id=\"df-cb6b9ece-632e-42ac-9631-bd814c868a36\">\n",
              "    <div class=\"colab-df-container\">\n",
              "      <div>\n",
              "<style scoped>\n",
              "    .dataframe tbody tr th:only-of-type {\n",
              "        vertical-align: middle;\n",
              "    }\n",
              "\n",
              "    .dataframe tbody tr th {\n",
              "        vertical-align: top;\n",
              "    }\n",
              "\n",
              "    .dataframe thead th {\n",
              "        text-align: right;\n",
              "    }\n",
              "</style>\n",
              "<table border=\"1\" class=\"dataframe\">\n",
              "  <thead>\n",
              "    <tr style=\"text-align: right;\">\n",
              "      <th></th>\n",
              "      <th>turns</th>\n",
              "      <th>vs</th>\n",
              "    </tr>\n",
              "  </thead>\n",
              "  <tbody>\n",
              "    <tr>\n",
              "      <th>0</th>\n",
              "      <td>13</td>\n",
              "      <td>2</td>\n",
              "    </tr>\n",
              "    <tr>\n",
              "      <th>1</th>\n",
              "      <td>16</td>\n",
              "      <td>3</td>\n",
              "    </tr>\n",
              "    <tr>\n",
              "      <th>2</th>\n",
              "      <td>61</td>\n",
              "      <td>1</td>\n",
              "    </tr>\n",
              "    <tr>\n",
              "      <th>3</th>\n",
              "      <td>61</td>\n",
              "      <td>1</td>\n",
              "    </tr>\n",
              "    <tr>\n",
              "      <th>4</th>\n",
              "      <td>95</td>\n",
              "      <td>1</td>\n",
              "    </tr>\n",
              "  </tbody>\n",
              "</table>\n",
              "</div>\n",
              "      <button class=\"colab-df-convert\" onclick=\"convertToInteractive('df-cb6b9ece-632e-42ac-9631-bd814c868a36')\"\n",
              "              title=\"Convert this dataframe to an interactive table.\"\n",
              "              style=\"display:none;\">\n",
              "        \n",
              "  <svg xmlns=\"http://www.w3.org/2000/svg\" height=\"24px\"viewBox=\"0 0 24 24\"\n",
              "       width=\"24px\">\n",
              "    <path d=\"M0 0h24v24H0V0z\" fill=\"none\"/>\n",
              "    <path d=\"M18.56 5.44l.94 2.06.94-2.06 2.06-.94-2.06-.94-.94-2.06-.94 2.06-2.06.94zm-11 1L8.5 8.5l.94-2.06 2.06-.94-2.06-.94L8.5 2.5l-.94 2.06-2.06.94zm10 10l.94 2.06.94-2.06 2.06-.94-2.06-.94-.94-2.06-.94 2.06-2.06.94z\"/><path d=\"M17.41 7.96l-1.37-1.37c-.4-.4-.92-.59-1.43-.59-.52 0-1.04.2-1.43.59L10.3 9.45l-7.72 7.72c-.78.78-.78 2.05 0 2.83L4 21.41c.39.39.9.59 1.41.59.51 0 1.02-.2 1.41-.59l7.78-7.78 2.81-2.81c.8-.78.8-2.07 0-2.86zM5.41 20L4 18.59l7.72-7.72 1.47 1.35L5.41 20z\"/>\n",
              "  </svg>\n",
              "      </button>\n",
              "      \n",
              "  <style>\n",
              "    .colab-df-container {\n",
              "      display:flex;\n",
              "      flex-wrap:wrap;\n",
              "      gap: 12px;\n",
              "    }\n",
              "\n",
              "    .colab-df-convert {\n",
              "      background-color: #E8F0FE;\n",
              "      border: none;\n",
              "      border-radius: 50%;\n",
              "      cursor: pointer;\n",
              "      display: none;\n",
              "      fill: #1967D2;\n",
              "      height: 32px;\n",
              "      padding: 0 0 0 0;\n",
              "      width: 32px;\n",
              "    }\n",
              "\n",
              "    .colab-df-convert:hover {\n",
              "      background-color: #E2EBFA;\n",
              "      box-shadow: 0px 1px 2px rgba(60, 64, 67, 0.3), 0px 1px 3px 1px rgba(60, 64, 67, 0.15);\n",
              "      fill: #174EA6;\n",
              "    }\n",
              "\n",
              "    [theme=dark] .colab-df-convert {\n",
              "      background-color: #3B4455;\n",
              "      fill: #D2E3FC;\n",
              "    }\n",
              "\n",
              "    [theme=dark] .colab-df-convert:hover {\n",
              "      background-color: #434B5C;\n",
              "      box-shadow: 0px 1px 3px 1px rgba(0, 0, 0, 0.15);\n",
              "      filter: drop-shadow(0px 1px 2px rgba(0, 0, 0, 0.3));\n",
              "      fill: #FFFFFF;\n",
              "    }\n",
              "  </style>\n",
              "\n",
              "      <script>\n",
              "        const buttonEl =\n",
              "          document.querySelector('#df-cb6b9ece-632e-42ac-9631-bd814c868a36 button.colab-df-convert');\n",
              "        buttonEl.style.display =\n",
              "          google.colab.kernel.accessAllowed ? 'block' : 'none';\n",
              "\n",
              "        async function convertToInteractive(key) {\n",
              "          const element = document.querySelector('#df-cb6b9ece-632e-42ac-9631-bd814c868a36');\n",
              "          const dataTable =\n",
              "            await google.colab.kernel.invokeFunction('convertToInteractive',\n",
              "                                                     [key], {});\n",
              "          if (!dataTable) return;\n",
              "\n",
              "          const docLinkHtml = 'Like what you see? Visit the ' +\n",
              "            '<a target=\"_blank\" href=https://colab.research.google.com/notebooks/data_table.ipynb>data table notebook</a>'\n",
              "            + ' to learn more about interactive tables.';\n",
              "          element.innerHTML = '';\n",
              "          dataTable['output_type'] = 'display_data';\n",
              "          await google.colab.output.renderOutput(dataTable, element);\n",
              "          const docLink = document.createElement('div');\n",
              "          docLink.innerHTML = docLinkHtml;\n",
              "          element.appendChild(docLink);\n",
              "        }\n",
              "      </script>\n",
              "    </div>\n",
              "  </div>\n",
              "  "
            ]
          },
          "metadata": {},
          "execution_count": 155
        }
      ]
    },
    {
      "cell_type": "code",
      "source": [
        "from sklearn.model_selection import train_test_split\n",
        "X_train, X_test, y_train, y_test = train_test_split(\n",
        "   x, c, test_size=0.33, random_state=42)"
      ],
      "metadata": {
        "id": "4ihq_8naOed6"
      },
      "execution_count": null,
      "outputs": []
    },
    {
      "cell_type": "code",
      "source": [
        "model = XGBClassifier()\n",
        "model.fit(X_train, y_train)\n",
        "prediction = model.predict(X_test)"
      ],
      "metadata": {
        "colab": {
          "base_uri": "https://localhost:8080/"
        },
        "id": "vKNyabGrOsP5",
        "outputId": "1ede63dc-61fd-437d-ba86-367273f42fa8"
      },
      "execution_count": null,
      "outputs": [
        {
          "output_type": "stream",
          "name": "stderr",
          "text": [
            "/usr/local/lib/python3.7/dist-packages/sklearn/preprocessing/_label.py:98: DataConversionWarning: A column-vector y was passed when a 1d array was expected. Please change the shape of y to (n_samples, ), for example using ravel().\n",
            "  y = column_or_1d(y, warn=True)\n",
            "/usr/local/lib/python3.7/dist-packages/sklearn/preprocessing/_label.py:133: DataConversionWarning: A column-vector y was passed when a 1d array was expected. Please change the shape of y to (n_samples, ), for example using ravel().\n",
            "  y = column_or_1d(y, warn=True)\n"
          ]
        }
      ]
    },
    {
      "cell_type": "code",
      "source": [
        "from sklearn.metrics import accuracy_score\n",
        "accuracy_score(prediction,y_test)"
      ],
      "metadata": {
        "colab": {
          "base_uri": "https://localhost:8080/"
        },
        "id": "PyDArVXQO2E_",
        "outputId": "cb3dfa7b-9b1f-4b67-e5cd-9262ed9629b2"
      },
      "execution_count": null,
      "outputs": [
        {
          "output_type": "execute_result",
          "data": {
            "text/plain": [
              "0.7808157099697886"
            ]
          },
          "metadata": {},
          "execution_count": 159
        }
      ]
    },
    {
      "cell_type": "markdown",
      "source": [
        "Using Decision Tree Classifier as a Model for a Better Accuracy"
      ],
      "metadata": {
        "id": "g7Uj1jdTTYV8"
      }
    },
    {
      "cell_type": "code",
      "source": [
        "from sklearn.tree import DecisionTreeClassifier\n",
        "\n",
        "model = DecisionTreeClassifier()\n",
        "model.fit(X_train, y_train)\n",
        "prediction = model.predict(X_test)\n",
        "from sklearn.metrics import accuracy_score\n",
        "accuracy_score(prediction,y_test)"
      ],
      "metadata": {
        "colab": {
          "base_uri": "https://localhost:8080/"
        },
        "id": "WvTGSvDoRKjj",
        "outputId": "45583e2e-e129-42d5-f0cf-87119f42d29f"
      },
      "execution_count": null,
      "outputs": [
        {
          "output_type": "execute_result",
          "data": {
            "text/plain": [
              "0.899546827794562"
            ]
          },
          "metadata": {},
          "execution_count": 165
        }
      ]
    }
  ]
}